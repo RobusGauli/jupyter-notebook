{
 "cells": [
  {
   "cell_type": "code",
   "execution_count": 1,
   "metadata": {
    "collapsed": false
   },
   "outputs": [
    {
     "name": "stdout",
     "output_type": "stream",
     "text": [
      "hello world\n"
     ]
    },
    {
     "data": {
      "text/plain": [
       "undefined"
      ]
     },
     "execution_count": 1,
     "metadata": {},
     "output_type": "execute_result"
    }
   ],
   "source": [
    "console.log('hello world')"
   ]
  },
  {
   "cell_type": "code",
   "execution_count": 6,
   "metadata": {
    "collapsed": false
   },
   "outputs": [
    {
     "name": "stdout",
     "output_type": "stream",
     "text": [
      "{ DTRACE_NET_SERVER_CONNECTION: [Function],\n",
      "  DTRACE_NET_STREAM_END: [Function],\n",
      "  DTRACE_HTTP_SERVER_REQUEST: [Function],\n",
      "  DTRACE_HTTP_SERVER_RESPONSE: [Function],\n",
      "  DTRACE_HTTP_CLIENT_REQUEST: [Function],\n",
      "  DTRACE_HTTP_CLIENT_RESPONSE: [Function],\n",
      "  COUNTER_NET_SERVER_CONNECTION: [Function],\n",
      "  COUNTER_NET_SERVER_CONNECTION_CLOSE: [Function],\n",
      "  COUNTER_HTTP_SERVER_REQUEST: [Function],\n",
      "  COUNTER_HTTP_SERVER_RESPONSE: [Function],\n",
      "  COUNTER_HTTP_CLIENT_REQUEST: [Function],\n",
      "  COUNTER_HTTP_CLIENT_RESPONSE: [Function],\n",
      "  global: [Circular],\n",
      "  process: \n",
      "   process {\n",
      "     title: 'jupyter  notebook',\n",
      "     version: 'v4.4.7',\n",
      "     moduleLoadList: \n",
      "      [ 'Binding contextify',\n",
      "        'Binding natives',\n",
      "        'NativeModule events',\n",
      "        'NativeModule buffer',\n",
      "        'Binding buffer',\n",
      "        'NativeModule internal/util',\n",
      "        'Binding util',\n",
      "        'NativeModule timers',\n",
      "        'Binding timer_wrap',\n",
      "        'NativeModule _linklist',\n",
      "        'NativeModule assert',\n",
      "        'NativeModule util',\n",
      "        'Binding uv',\n",
      "        'NativeModule child_process',\n",
      "        'NativeModule constants',\n",
      "        'Binding constants',\n",
      "        'Binding spawn_sync',\n",
      "        'Binding pipe_wrap',\n",
      "        'NativeModule internal/child_process',\n",
      "        'NativeModule string_decoder',\n",
      "        'NativeModule net',\n",
      "        'NativeModule stream',\n",
      "        'NativeModule _stream_readable',\n",
      "        'NativeModule _stream_writable',\n",
      "        'NativeModule _stream_duplex',\n",
      "        'NativeModule _stream_transform',\n",
      "        'NativeModule _stream_passthrough',\n",
      "        'NativeModule internal/net',\n",
      "        'Binding cares_wrap',\n",
      "        'Binding tty_wrap',\n",
      "        'Binding tcp_wrap',\n",
      "        'Binding stream_wrap',\n",
      "        'NativeModule dgram',\n",
      "        'Binding udp_wrap',\n",
      "        'Binding process_wrap',\n",
      "        'NativeModule internal/socket_list',\n",
      "        'NativeModule module',\n",
      "        'NativeModule internal/module',\n",
      "        'NativeModule vm',\n",
      "        'NativeModule fs',\n",
      "        'NativeModule path',\n",
      "        'Binding fs',\n",
      "        'Binding fs_event_wrap',\n",
      "        'NativeModule console' ],\n",
      "     versions: \n",
      "      { http_parser: '2.5.2',\n",
      "        node: '4.4.7',\n",
      "        v8: '4.5.103.36',\n",
      "        uv: '1.8.0',\n",
      "        zlib: '1.2.8',\n",
      "        ares: '1.10.1-DEV',\n",
      "        icu: '56.1',\n",
      "        modules: '46',\n",
      "        openssl: '1.0.2h' },\n",
      "     arch: 'x64',\n",
      "     platform: 'win32',\n",
      "     release: \n",
      "      { name: 'node',\n",
      "        lts: 'Argon',\n",
      "        sourceUrl: 'https://nodejs.org/download/release/v4.4.7/node-v4.4.7.tar.gz',\n",
      "        headersUrl: 'https://nodejs.org/download/release/v4.4.7/node-v4.4.7-headers.tar.gz',\n",
      "        libUrl: 'https://nodejs.org/download/release/v4.4.7/win-x64/node.lib' },\n",
      "     argv: [ 'C:\\\\Program Files\\\\nodejs\\\\node.exe' ],\n",
      "     execArgv: \n",
      "      [ '--eval',\n",
      "        '/*\\n * BSD 3-Clause License\\n *\\n * Copyright (c) 2015, Nicolas Riesco and others as credited in the AUTHORS file\\n * All rights reserved.\\n *\\n * Redistribution and use in source and binary forms, with or without\\n * modification, are permitted provided that the following conditions are met:\\n *\\n * 1. Redistributions of source code must retain the above copyright notice,\\n * this list of conditions and the following disclaimer.\\n *\\n * 2. Redistributions in binary form must reproduce the above copyright notice,\\n * this list of conditions and the following disclaimer in the documentation\\n * and/or other materials provided with the distribution.\\n *\\n * 3. Neither the name of the copyright holder nor the names of its contributors\\n * may be used to endorse or promote products derived from this software without\\n * specific prior written permission.\\n *\\n * THIS SOFTWARE IS PROVIDED BY THE COPYRIGHT HOLDERS AND CONTRIBUTORS \"AS IS\"\\n * AND ANY EXPRESS OR IMPLIED WARRANTIES, INCLUDING, BUT NOT LIMITED TO, THE\\n * IMPLIED WARRANTIES OF MERCHANTABILITY AND FITNESS FOR A PARTICULAR PURPOSE\\n * ARE DISCLAIMED. IN NO EVENT SHALL THE COPYRIGHT HOLDER OR CONTRIBUTORS BE\\n * LIABLE FOR ANY DIRECT, INDIRECT, INCIDENTAL, SPECIAL, EXEMPLARY, OR\\n * CONSEQUENTIAL DAMAGES (INCLUDING, BUT NOT LIMITED TO, PROCUREMENT OF\\n * SUBSTITUTE GOODS OR SERVICES; LOSS OF USE, DATA, OR PROFITS; OR BUSINESS\\n * INTERRUPTION) HOWEVER CAUSED AND ON ANY THEORY OF LIABILITY, WHETHER IN\\n * CONTRACT, STRICT LIABILITY, OR TORT (INCLUDING NEGLIGENCE OR OTHERWISE)\\n * ARISING IN ANY WAY OUT OF THE USE OF THIS SOFTWARE, EVEN IF ADVISED OF THE\\n * POSSIBILITY OF SUCH DAMAGE.\\n *\\n */\\n\\n(function() {\\n    var DEBUG = !!process.env.DEBUG;\\n\\n    var log = DEBUG ?\\n        function log() {\\n            process.send({\\n                log: \"SERVER: \" + util.format.apply(this, arguments),\\n            });\\n        } : function noop() {};\\n\\n    var console = require(\"console\");\\n    var stream = require(\"stream\");\\n    var util = require(\"util\");\\n    var vm = require(\"vm\");\\n\\n    function Stdout(id, opt) {\\n        stream.Transform.call(this, opt);\\n\\n        this._id = id;\\n    }\\n\\n    Stdout.prototype = Object.create(stream.Transform.prototype);\\n\\n    Stdout.prototype._transform = function(data, encoding, callback) {\\n        var response = {\\n            id: this._id,\\n            stdout: data.toString(),\\n        };\\n        log(\"STDOUT:\", response);\\n        process.send(response);\\n        this.push(data);\\n        callback();\\n    };\\n\\n    function Stderr(id, opt) {\\n        stream.Transform.call(this, opt);\\n\\n        this._id = id;\\n    }\\n\\n    Stderr.prototype = Object.create(stream.Transform.prototype);\\n\\n    Stderr.prototype._transform = function(data, encoding, callback) {\\n        var response = {\\n            id: this._id,\\n            stderr: data.toString(),\\n        };\\n        log(\"STDERR:\", response);\\n        process.send(response);\\n        this.push(data);\\n        callback();\\n    };\\n\\n    function Context(id) {\\n        this.id = id;\\n\\n        this.stdout = new Stdout(this.id);\\n        this.stderr = new Stderr(this.id);\\n        this.console = new console.Console(this.stdout, this.stderr);\\n\\n        this._capturedStdout = null;\\n        this._capturedStderr = null;\\n        this._capturedConsole = null;\\n\\n        this._async = false;\\n        this._done = false;\\n\\n        // `$$` provides an interface for users to access the execution context\\n        this.$$ = Object.create(null);\\n\\n        this.$$.async = Context.prototype.async.bind(this);\\n        this.$$.sendResult = Context.prototype.sendResult.bind(this);\\n        this.$$.sendError = Context.prototype.sendError.bind(this);\\n        this.$$.done = Context.prototype.done.bind(this);\\n\\n        this.$$.mime = (function sendMime(mimeBundle) {\\n            this.done({\\n                mime: mimeBundle\\n            });\\n        }).bind(this);\\n\\n        this.$$.text = (function sendText(text) {\\n            this.done({\\n                mime: {\\n                    \"text/plain\": text\\n                }\\n            });\\n        }).bind(this);\\n\\n        this.$$.html = (function sendHtml(html) {\\n            this.done({\\n                mime: {\\n                    \"text/html\": html\\n                }\\n            });\\n        }).bind(this);\\n\\n        this.$$.svg = (function sendSvg(svg) {\\n            this.done({\\n                mime: {\\n                    \"image/svg+xml\": svg\\n                }\\n            });\\n        }).bind(this);\\n\\n        this.$$.png = (function sendPng(png) {\\n            this.done({\\n                mime: {\\n                    \"image/png\": png\\n                }\\n            });\\n        }).bind(this);\\n\\n        this.$$.jpeg = (function sendJpeg(jpeg) {\\n            this.done({\\n                mime: {\\n                    \"image/jpeg\": jpeg\\n                }\\n            });\\n        }).bind(this);\\n    }\\n\\n    Context.prototype.send = function send(message) {\\n        message.id = this.id;\\n\\n        if (this._done) {\\n            log(\"RESULT: DROPPED:\", message);\\n            return;\\n        }\\n\\n        log(\"RESULT:\", message);\\n\\n        process.send(message);\\n    };\\n\\n    Context.prototype.async = function async() {\\n        this._async = true;\\n    };\\n\\n    Context.prototype.sendResult = function sendResult(result) {\\n        this.done({\\n            mime: toMime(result)\\n        });\\n    };\\n\\n    Context.prototype.sendError = function sendError(error) {\\n        this.done({\\n            error: formatError(error)\\n        });\\n    };\\n\\n    Context.prototype.done = function done(response) {\\n        response = response || {};\\n        response.end = true;\\n\\n        this.send(response);\\n\\n        this._async = false;\\n        this._done = true;\\n    };\\n\\n    Context.prototype.captureGlobalContext = function captureGlobalContext() {\\n        this._capturedStdout = process.stdout;\\n        this._capturedStderr = process.stderr;\\n        this._capturedConsole = console;\\n\\n        this.stdout.pipe(this._capturedStdout);\\n        this.stderr.pipe(this._capturedStderr);\\n        this.console.Console = this._capturedConsole.Console;\\n\\n        delete process.stdout;\\n        process.stdout = this.stdout;\\n\\n        delete process.stderr;\\n        process.stderr = this.stderr;\\n\\n        delete global.console;\\n        global.console = this.console;\\n\\n        delete global.$$;\\n        global.$$ = this.$$;\\n\\n        if (typeof global.$$mimer$$ !== \"function\") {\\n            global.$$mimer$$ = defaultMimer;\\n        }\\n\\n        delete global.$$mime$$;\\n        Object.defineProperty(global, \"$$mime$$\", {\\n            set: this.$$.mime,\\n            configurable: true,\\n            enumerable: false,\\n        });\\n\\n        delete global.$$html$$;\\n        Object.defineProperty(global, \"$$html$$\", {\\n            set: this.$$.html,\\n            configurable: true,\\n            enumerable: false,\\n        });\\n\\n        delete global.$$svg$$;\\n        Object.defineProperty(global, \"$$svg$$\", {\\n            set: this.$$.svg,\\n            configurable: true,\\n            enumerable: false,\\n        });\\n\\n        delete global.$$png$$;\\n        Object.defineProperty(global, \"$$png$$\", {\\n            set: this.$$.png,\\n            configurable: true,\\n            enumerable: false,\\n        });\\n\\n        delete global.$$jpeg$$;\\n        Object.defineProperty(global, \"$$jpeg$$\", {\\n            set: this.$$.jpeg,\\n            configurable: true,\\n            enumerable: false,\\n        });\\n\\n        delete global.$$async$$;\\n        Object.defineProperty(global, \"$$async$$\", {\\n            get: (function() {\\n                return this._async;\\n            }).bind(this),\\n            set: (function(value) {\\n                if (value) {\\n                    this.async();\\n                }\\n                this._async = value;\\n            }).bind(this),\\n            configurable: true,\\n            enumerable: false,\\n        });\\n\\n        global.$$done$$ = this.$$.sendResult;\\n    };\\n\\n    Context.prototype.releaseGlobalContext = function releaseGlobalContext() {\\n        if (process.stdout === this.stdout) {\\n            this.stdout.unpipe();\\n\\n            delete process.stdout;\\n            process.stdout = this._capturedStdout;\\n\\n            this._capturedStdout = null;\\n        }\\n\\n        if (process.stderr === this.stderr) {\\n            this.stderr.unpipe();\\n\\n            delete process.stderr;\\n            process.stderr = this._capturedStderr;\\n\\n            this._capturedStderr = null;\\n        }\\n\\n        if (global.console === this.console) {\\n            delete global.console;\\n            global.console = this._capturedConsole;\\n\\n            this._capturedConsole = null;\\n        }\\n    };\\n\\n    // Capture the initial context\\n    // (id left undefined to indicate this is the initial context)\\n    var initialContext = new Context();\\n    initialContext.captureGlobalContext();\\n\\n    init();\\n\\n    return;\\n\\n    function init() {\\n        Object.defineProperty(global, \"$$defaultMimer$$\", {\\n            value: defaultMimer,\\n            configurable: false,\\n            writable: false,\\n            enumerable: false,\\n        });\\n\\n        process.on(\"message\", onMessage.bind(this));\\n\\n        process.on(\"uncaughtException\", onUncaughtException.bind(this));\\n    }\\n\\n    function onUncaughtException(error) {\\n        log(\"UNCAUGHTEXCEPTION:\", error.stack);\\n        process.send({\\n            stderr: error.stack.toString(),\\n        });\\n    }\\n\\n    function onMessage(request) {\\n        log(\"REQUEST:\", request);\\n\\n        var action = request[0];\\n        var code = request[1];\\n        var id = request[2];\\n\\n        initialContext.releaseGlobalContext();\\n        var context = new Context(id);\\n        context.captureGlobalContext();\\n\\n        try {\\n            if (action === \"getAllPropertyNames\") {\\n                onNameRequest(code, context);\\n            } else if (action === \"inspect\") {\\n                onInspectRequest(code, context);\\n            } else if (action === \"run\") {\\n                onRunRequest(code, context);\\n            } else {\\n                throw new Error(\"NEL: Unhandled action request: \" + action);\\n            }\\n        } catch (error) {\\n            context.sendError(error);\\n        }\\n\\n        context.releaseGlobalContext();\\n        initialContext.captureGlobalContext();\\n        initialContext._done = false;\\n    }\\n\\n    function onNameRequest(code, context) {\\n        var message = {\\n            id: context.id,\\n            names: getAllPropertyNames(run(code)),\\n        };\\n        log(\"RESULT:\", message);\\n        context.done(message);\\n    }\\n\\n    function onInspectRequest(code, context) {\\n        var message = {\\n            id: context.id,\\n            inspection: inspect(run(code)),\\n        };\\n        log(\"RESULT:\", message);\\n        context.done(message);\\n    }\\n\\n    function onRunRequest(code, context) {\\n        var result = run(code);\\n\\n        // Drop result if the run request initiated the async mode\\n        if (context._async) {\\n            return;\\n        }\\n\\n        // Drop result if the run request has already invoked context.done()\\n        if (context._done) {\\n            return;\\n        }\\n\\n        context.sendResult(result);\\n    }\\n\\n    function formatError(error) {\\n        return {\\n            ename: (error && error.name) ?\\n                error.name : typeof error,\\n            evalue: (error && error.message) ?\\n                error.message : util.inspect(error),\\n            traceback: (error && error.stack) ?\\n                error.stack.split(\"\\\\n\") : \"\",\\n        };\\n    }\\n\\n    function toMime(result) {\\n        var mimer = (typeof global.$$mimer$$ === \"function\") ?\\n            global.$$mimer$$ :\\n            defaultMimer;\\n        return mimer(result);\\n    }\\n\\n    function defaultMimer(result) {\\n        if (typeof result === \"undefined\") {\\n            return {\\n                \"text/plain\": \"undefined\"\\n            };\\n        }\\n\\n        if (result === null) {\\n            return {\\n                \"text/plain\": \"null\"\\n            };\\n        }\\n\\n        var mime;\\n        if (result._toMime) {\\n            try {\\n                mime = result._toMime();\\n            } catch (error) {}\\n        }\\n        if (typeof mime !== \"object\") {\\n            mime = {};\\n        }\\n\\n        if (!(\"text/plain\" in mime)) {\\n            try {\\n                mime[\"text/plain\"] = util.inspect(result);\\n            } catch (error) {}\\n        }\\n\\n        if (result._toHtml && !(\"text/html\" in mime)) {\\n            try {\\n                mime[\"text/html\"] = result._toHtml();\\n            } catch (error) {}\\n        }\\n\\n        if (result._toSvg && !(\"image/svg+xml\" in mime)) {\\n            try {\\n                mime[\"image/svg+xml\"] = result._toSvg();\\n            } catch (error) {}\\n        }\\n\\n        if (result._toPng && !(\"image/png\" in mime)) {\\n            try {\\n                mime[\"image/png\"] = result._toPng();\\n            } catch (error) {}\\n        }\\n\\n        if (result._toJpeg && !(\"image/jpeg\" in mime)) {\\n            try {\\n                mime[\"image/jpeg\"] = result._toJpeg();\\n            } catch (error) {}\\n        }\\n\\n        return mime;\\n    }\\n\\n    function getAllPropertyNames(object) {\\n        var propertyList = [];\\n\\n        if (object === undefined) {\\n            return [];\\n        }\\n\\n        if (object === null) {\\n            return [];\\n        }\\n\\n        var prototype;\\n        if (typeof object === \"boolean\") {\\n            prototype = Boolean.prototype;\\n        } else if (typeof object === \"number\") {\\n            prototype = Number.prototype;\\n        } else if (typeof object === \"string\") {\\n            prototype = String.prototype;\\n        } else {\\n            prototype = object;\\n        }\\n\\n        var prototypeList = [prototype];\\n\\n        function pushToPropertyList(e) {\\n            if (propertyList.indexOf(e) === -1) {\\n                propertyList.push(e);\\n            }\\n        }\\n\\n        while (true) {\\n            var names;\\n            try {\\n                names = Object.getOwnPropertyNames(prototype).sort();\\n            } catch (e) {\\n                break;\\n            }\\n            names.forEach(pushToPropertyList);\\n\\n            prototype = Object.getPrototypeOf(prototype);\\n            if (prototype === null) {\\n                break;\\n            }\\n\\n            if (prototypeList.indexOf(prototype) === -1) {\\n                prototypeList.push(prototype);\\n            }\\n        }\\n\\n        return propertyList;\\n    }\\n\\n    function inspect(object) {\\n        if (object === undefined) {\\n            return {\\n                string: \"undefined\",\\n                type: \"Undefined\",\\n            };\\n        }\\n\\n        if (object === null) {\\n            return {\\n                string: \"null\",\\n                type: \"Null\",\\n            };\\n        }\\n\\n        if (typeof object === \"boolean\") {\\n            return {\\n                string: object ? \"true\" : \"false\",\\n                type: \"Boolean\",\\n                constructorList: [\"Boolean\", \"Object\"],\\n            };\\n        }\\n\\n        if (typeof object === \"number\") {\\n            return {\\n                string: util.inspect(object),\\n                type: \"Number\",\\n                constructorList: [\"Number\", \"Object\"],\\n            };\\n        }\\n\\n        if (typeof object === \"string\") {\\n            return {\\n                string: object,\\n                type: \"String\",\\n                constructorList: [\"String\", \"Object\"],\\n                length: object.length,\\n            };\\n        }\\n\\n        if (typeof object === \"function\") {\\n            return {\\n                string: object.toString(),\\n                type: \"Function\",\\n                constructorList: [\"Function\", \"Object\"],\\n                length: object.length,\\n            };\\n        }\\n\\n        var constructorList = getConstructorList(object);\\n        var result = {\\n            string: toString(object),\\n            type: constructorList[0] || \"\",\\n            constructorList: constructorList,\\n        };\\n\\n        if (\"length\" in object) {\\n            result.length = object.length;\\n        }\\n\\n        return result;\\n\\n        function toString(object) {\\n            try {\\n                return util.inspect(object.valueOf());\\n            } catch (e) {\\n                return util.inspect(object);\\n            }\\n        }\\n\\n        function getConstructorList(object) {\\n            var constructorList = [];\\n\\n            var prototype = Object.getPrototypeOf(object);\\n            while (true) {\\n                try {\\n                    constructorList.push(prototype.constructor.name);\\n                } catch (e) {\\n                    break;\\n                }\\n                prototype = Object.getPrototypeOf(prototype);\\n            }\\n\\n            return constructorList;\\n        }\\n    }\\n\\n    function run(code) {\\n        return vm.runInThisContext(code);\\n    }\\n})();\\n' ],\n",
      "     env: \n",
      "      { ALLUSERSPROFILE: 'C:\\\\ProgramData',\n",
      "        AMDAPPSDKROOT: 'C:\\\\Program Files (x86)\\\\AMD APP\\\\',\n",
      "        APPDATA: 'C:\\\\Users\\\\Robus\\\\AppData\\\\Roaming',\n",
      "        CHOCOLATEYINSTALL: 'C:\\\\ProgramData\\\\chocolatey',\n",
      "        CHOCOLATEYLASTPATHUPDATE: 'Sun Jan  1 09:21:51 2017',\n",
      "        COMMONPROGRAMFILES: 'C:\\\\Program Files\\\\Common Files',\n",
      "        'COMMONPROGRAMFILES(X86)': 'C:\\\\Program Files (x86)\\\\Common Files',\n",
      "        COMMONPROGRAMW6432: 'C:\\\\Program Files\\\\Common Files',\n",
      "        COMPUTERNAME: 'ROBUS_COMPUTER',\n",
      "        COMSPEC: 'C:\\\\Windows\\\\system32\\\\cmd.exe',\n",
      "        FP_NO_HOST_CHECK: 'NO',\n",
      "        GTK_BASEPATH: 'C:\\\\Program Files (x86)\\\\GtkSharp\\\\2.12\\\\',\n",
      "        HOMEDRIVE: 'C:',\n",
      "        HOMEPATH: '\\\\Users\\\\Robus',\n",
      "        IPY_INTERRUPT_EVENT: '1048',\n",
      "        JAVA_HOME: 'C:\\\\Program Files\\\\Java\\\\jdk1.8.0_91\\\\',\n",
      "        JPY_INTERRUPT_EVENT: '1048',\n",
      "        JPY_PARENT_PID: '1076',\n",
      "        LOCALAPPDATA: 'C:\\\\Users\\\\Robus\\\\AppData\\\\Local',\n",
      "        LOGONSERVER: '\\\\\\\\ROBUS_COMPUTER',\n",
      "        NUMBER_OF_PROCESSORS: '4',\n",
      "        OS: 'Windows_NT',\n",
      "        PATH: 'Z:\\\\anaconda\\\\Library\\\\bin;Z:\\\\anaconda\\\\Scripts;Z:\\\\anaconda\\\\Library\\\\bin;C:\\\\Program Files (x86)\\\\AMD APP\\\\bin\\\\x86_64;C:\\\\Program Files (x86)\\\\AMD APP\\\\bin\\\\x86;C:\\\\ProgramData\\\\Oracle\\\\Java\\\\javapath;C:\\\\Windows\\\\system32;C:\\\\Windows;C:\\\\Windows\\\\System32\\\\Wbem;C:\\\\Windows\\\\System32\\\\WindowsPowerShell\\\\v1.0\\\\;C:\\\\Program Files (x86)\\\\ATI Technologies\\\\ATI.ACE\\\\Core-Static;C:\\\\Program Files (x86)\\\\Skype\\\\Phone\\\\;C:\\\\python34;C:\\\\Program Files\\\\nodejs\\\\;C:\\\\Program Files\\\\PostgreSQL\\\\9.5\\\\bin;Z:\\\\scripts_personal;C:\\\\Program Files (x86)\\\\Google\\\\Chrome;C:\\\\Program Files\\\\Git\\\\cmd;C:\\\\Program Files\\\\MySQL\\\\MySQL Utilities 1.6\\\\;C:\\\\Program Files (x86)\\\\GtkSharp\\\\2.12\\\\bin;Z:\\\\anaconda;Z:\\\\anaconda\\\\Scripts;Z:\\\\anaconda\\\\Library\\\\bin;C:\\\\Ruby200-x64\\\\bin;C:\\\\Users\\\\Robus\\\\AppData\\\\Roaming\\\\npm;Z:\\\\scripts_persona;C:\\\\MinGW\\\\bin;l;C:\\\\Users\\\\Robus\\\\AppData\\\\Local\\\\atom\\\\bin;C:\\\\Program Files (x86)\\\\Microsoft VS Code\\\\bin',\n",
      "        PATHEXT: '.COM;.EXE;.BAT;.CMD;.VBS;.VBE;.JSE;.WSF;.WSH;.MSC',\n",
      "        PROCESSOR_ARCHITECTURE: 'AMD64',\n",
      "        PROCESSOR_IDENTIFIER: 'Intel64 Family 6 Model 58 Stepping 9, GenuineIntel',\n",
      "        PROCESSOR_LEVEL: '6',\n",
      "        PROCESSOR_REVISION: '3a09',\n",
      "        PROGRAMDATA: 'C:\\\\ProgramData',\n",
      "        PROGRAMFILES: 'C:\\\\Program Files',\n",
      "        'PROGRAMFILES(X86)': 'C:\\\\Program Files (x86)',\n",
      "        PROGRAMW6432: 'C:\\\\Program Files',\n",
      "        PROMPT: '$P$G',\n",
      "        PSMODULEPATH: 'C:\\\\Windows\\\\system32\\\\WindowsPowerShell\\\\v1.0\\\\Modules\\\\',\n",
      "        PUBLIC: 'C:\\\\Users\\\\Public',\n",
      "        SESSIONNAME: 'Console',\n",
      "        SYSTEMDRIVE: 'C:',\n",
      "        SYSTEMROOT: 'C:\\\\Windows',\n",
      "        TEMP: 'C:\\\\Users\\\\Robus\\\\AppData\\\\Local\\\\Temp',\n",
      "        TMP: 'C:\\\\Users\\\\Robus\\\\AppData\\\\Local\\\\Temp',\n",
      "        USERDOMAIN: 'Robus_Computer',\n",
      "        USERNAME: 'Robus',\n",
      "        USERPROFILE: 'C:\\\\Users\\\\Robus',\n",
      "        VBOX_MSI_INSTALL_PATH: 'C:\\\\Program Files\\\\Oracle\\\\VirtualBox\\\\',\n",
      "        VS140COMNTOOLS: 'C:\\\\Program Files (x86)\\\\Microsoft Visual Studio 14.0\\\\Common7\\\\Tools\\\\',\n",
      "        WINDIR: 'C:\\\\Windows',\n",
      "        WINDOWS_TRACING_FLAGS: '3',\n",
      "        WINDOWS_TRACING_LOGFILE: 'C:\\\\BVTBin\\\\Tests\\\\installpackage\\\\csilogfile.log' },\n",
      "     pid: 7876,\n",
      "     features: \n",
      "      { debug: false,\n",
      "        uv: true,\n",
      "        ipv6: true,\n",
      "        tls_npn: true,\n",
      "        tls_sni: true,\n",
      "        tls_ocsp: true,\n",
      "        tls: true },\n",
      "     _needImmediateCallback: false,\n",
      "     _eval: '/*\\n * BSD 3-Clause License\\n *\\n * Copyright (c) 2015, Nicolas Riesco and others as credited in the AUTHORS file\\n * All rights reserved.\\n *\\n * Redistribution and use in source and binary forms, with or without\\n * modification, are permitted provided that the following conditions are met:\\n *\\n * 1. Redistributions of source code must retain the above copyright notice,\\n * this list of conditions and the following disclaimer.\\n *\\n * 2. Redistributions in binary form must reproduce the above copyright notice,\\n * this list of conditions and the following disclaimer in the documentation\\n * and/or other materials provided with the distribution.\\n *\\n * 3. Neither the name of the copyright holder nor the names of its contributors\\n * may be used to endorse or promote products derived from this software without\\n * specific prior written permission.\\n *\\n * THIS SOFTWARE IS PROVIDED BY THE COPYRIGHT HOLDERS AND CONTRIBUTORS \"AS IS\"\\n * AND ANY EXPRESS OR IMPLIED WARRANTIES, INCLUDING, BUT NOT LIMITED TO, THE\\n * IMPLIED WARRANTIES OF MERCHANTABILITY AND FITNESS FOR A PARTICULAR PURPOSE\\n * ARE DISCLAIMED. IN NO EVENT SHALL THE COPYRIGHT HOLDER OR CONTRIBUTORS BE\\n * LIABLE FOR ANY DIRECT, INDIRECT, INCIDENTAL, SPECIAL, EXEMPLARY, OR\\n * CONSEQUENTIAL DAMAGES (INCLUDING, BUT NOT LIMITED TO, PROCUREMENT OF\\n * SUBSTITUTE GOODS OR SERVICES; LOSS OF USE, DATA, OR PROFITS; OR BUSINESS\\n * INTERRUPTION) HOWEVER CAUSED AND ON ANY THEORY OF LIABILITY, WHETHER IN\\n * CONTRACT, STRICT LIABILITY, OR TORT (INCLUDING NEGLIGENCE OR OTHERWISE)\\n * ARISING IN ANY WAY OUT OF THE USE OF THIS SOFTWARE, EVEN IF ADVISED OF THE\\n * POSSIBILITY OF SUCH DAMAGE.\\n *\\n */\\n\\n(function() {\\n    var DEBUG = !!process.env.DEBUG;\\n\\n    var log = DEBUG ?\\n        function log() {\\n            process.send({\\n                log: \"SERVER: \" + util.format.apply(this, arguments),\\n            });\\n        } : function noop() {};\\n\\n    var console = require(\"console\");\\n    var stream = require(\"stream\");\\n    var util = require(\"util\");\\n    var vm = require(\"vm\");\\n\\n    function Stdout(id, opt) {\\n        stream.Transform.call(this, opt);\\n\\n        this._id = id;\\n    }\\n\\n    Stdout.prototype = Object.create(stream.Transform.prototype);\\n\\n    Stdout.prototype._transform = function(data, encoding, callback) {\\n        var response = {\\n            id: this._id,\\n            stdout: data.toString(),\\n        };\\n        log(\"STDOUT:\", response);\\n        process.send(response);\\n        this.push(data);\\n        callback();\\n    };\\n\\n    function Stderr(id, opt) {\\n        stream.Transform.call(this, opt);\\n\\n        this._id = id;\\n    }\\n\\n    Stderr.prototype = Object.create(stream.Transform.prototype);\\n\\n    Stderr.prototype._transform = function(data, encoding, callback) {\\n        var response = {\\n            id: this._id,\\n            stderr: data.toString(),\\n        };\\n        log(\"STDERR:\", response);\\n        process.send(response);\\n        this.push(data);\\n        callback();\\n    };\\n\\n    function Context(id) {\\n        this.id = id;\\n\\n        this.stdout = new Stdout(this.id);\\n        this.stderr = new Stderr(this.id);\\n        this.console = new console.Console(this.stdout, this.stderr);\\n\\n        this._capturedStdout = null;\\n        this._capturedStderr = null;\\n        this._capturedConsole = null;\\n\\n        this._async = false;\\n        this._done = false;\\n\\n        // `$$` provides an interface for users to access the execution context\\n        this.$$ = Object.create(null);\\n\\n        this.$$.async = Context.prototype.async.bind(this);\\n        this.$$.sendResult = Context.prototype.sendResult.bind(this);\\n        this.$$.sendError = Context.prototype.sendError.bind(this);\\n        this.$$.done = Context.prototype.done.bind(this);\\n\\n        this.$$.mime = (function sendMime(mimeBundle) {\\n            this.done({\\n                mime: mimeBundle\\n            });\\n        }).bind(this);\\n\\n        this.$$.text = (function sendText(text) {\\n            this.done({\\n                mime: {\\n                    \"text/plain\": text\\n                }\\n            });\\n        }).bind(this);\\n\\n        this.$$.html = (function sendHtml(html) {\\n            this.done({\\n                mime: {\\n                    \"text/html\": html\\n                }\\n            });\\n        }).bind(this);\\n\\n        this.$$.svg = (function sendSvg(svg) {\\n            this.done({\\n                mime: {\\n                    \"image/svg+xml\": svg\\n                }\\n            });\\n        }).bind(this);\\n\\n        this.$$.png = (function sendPng(png) {\\n            this.done({\\n                mime: {\\n                    \"image/png\": png\\n                }\\n            });\\n        }).bind(this);\\n\\n        this.$$.jpeg = (function sendJpeg(jpeg) {\\n            this.done({\\n                mime: {\\n                    \"image/jpeg\": jpeg\\n                }\\n            });\\n        }).bind(this);\\n    }\\n\\n    Context.prototype.send = function send(message) {\\n        message.id = this.id;\\n\\n        if (this._done) {\\n            log(\"RESULT: DROPPED:\", message);\\n            return;\\n        }\\n\\n        log(\"RESULT:\", message);\\n\\n        process.send(message);\\n    };\\n\\n    Context.prototype.async = function async() {\\n        this._async = true;\\n    };\\n\\n    Context.prototype.sendResult = function sendResult(result) {\\n        this.done({\\n            mime: toMime(result)\\n        });\\n    };\\n\\n    Context.prototype.sendError = function sendError(error) {\\n        this.done({\\n            error: formatError(error)\\n        });\\n    };\\n\\n    Context.prototype.done = function done(response) {\\n        response = response || {};\\n        response.end = true;\\n\\n        this.send(response);\\n\\n        this._async = false;\\n        this._done = true;\\n    };\\n\\n    Context.prototype.captureGlobalContext = function captureGlobalContext() {\\n        this._capturedStdout = process.stdout;\\n        this._capturedStderr = process.stderr;\\n        this._capturedConsole = console;\\n\\n        this.stdout.pipe(this._capturedStdout);\\n        this.stderr.pipe(this._capturedStderr);\\n        this.console.Console = this._capturedConsole.Console;\\n\\n        delete process.stdout;\\n        process.stdout = this.stdout;\\n\\n        delete process.stderr;\\n        process.stderr = this.stderr;\\n\\n        delete global.console;\\n        global.console = this.console;\\n\\n        delete global.$$;\\n        global.$$ = this.$$;\\n\\n        if (typeof global.$$mimer$$ !== \"function\") {\\n            global.$$mimer$$ = defaultMimer;\\n        }\\n\\n        delete global.$$mime$$;\\n        Object.defineProperty(global, \"$$mime$$\", {\\n            set: this.$$.mime,\\n            configurable: true,\\n            enumerable: false,\\n        });\\n\\n        delete global.$$html$$;\\n        Object.defineProperty(global, \"$$html$$\", {\\n            set: this.$$.html,\\n            configurable: true,\\n            enumerable: false,\\n        });\\n\\n        delete global.$$svg$$;\\n        Object.defineProperty(global, \"$$svg$$\", {\\n            set: this.$$.svg,\\n            configurable: true,\\n            enumerable: false,\\n        });\\n\\n        delete global.$$png$$;\\n        Object.defineProperty(global, \"$$png$$\", {\\n            set: this.$$.png,\\n            configurable: true,\\n            enumerable: false,\\n        });\\n\\n        delete global.$$jpeg$$;\\n        Object.defineProperty(global, \"$$jpeg$$\", {\\n            set: this.$$.jpeg,\\n            configurable: true,\\n            enumerable: false,\\n        });\\n\\n        delete global.$$async$$;\\n        Object.defineProperty(global, \"$$async$$\", {\\n            get: (function() {\\n                return this._async;\\n            }).bind(this),\\n            set: (function(value) {\\n                if (value) {\\n                    this.async();\\n                }\\n                this._async = value;\\n            }).bind(this),\\n            configurable: true,\\n            enumerable: false,\\n        });\\n\\n        global.$$done$$ = this.$$.sendResult;\\n    };\\n\\n    Context.prototype.releaseGlobalContext = function releaseGlobalContext() {\\n        if (process.stdout === this.stdout) {\\n            this.stdout.unpipe();\\n\\n            delete process.stdout;\\n            process.stdout = this._capturedStdout;\\n\\n            this._capturedStdout = null;\\n        }\\n\\n        if (process.stderr === this.stderr) {\\n            this.stderr.unpipe();\\n\\n            delete process.stderr;\\n            process.stderr = this._capturedStderr;\\n\\n            this._capturedStderr = null;\\n        }\\n\\n        if (global.console === this.console) {\\n            delete global.console;\\n            global.console = this._capturedConsole;\\n\\n            this._capturedConsole = null;\\n        }\\n    };\\n\\n    // Capture the initial context\\n    // (id left undefined to indicate this is the initial context)\\n    var initialContext = new Context();\\n    initialContext.captureGlobalContext();\\n\\n    init();\\n\\n    return;\\n\\n    function init() {\\n        Object.defineProperty(global, \"$$defaultMimer$$\", {\\n            value: defaultMimer,\\n            configurable: false,\\n            writable: false,\\n            enumerable: false,\\n        });\\n\\n        process.on(\"message\", onMessage.bind(this));\\n\\n        process.on(\"uncaughtException\", onUncaughtException.bind(this));\\n    }\\n\\n    function onUncaughtException(error) {\\n        log(\"UNCAUGHTEXCEPTION:\", error.stack);\\n        process.send({\\n            stderr: error.stack.toString(),\\n        });\\n    }\\n\\n    function onMessage(request) {\\n        log(\"REQUEST:\", request);\\n\\n        var action = request[0];\\n        var code = request[1];\\n        var id = request[2];\\n\\n        initialContext.releaseGlobalContext();\\n        var context = new Context(id);\\n        context.captureGlobalContext();\\n\\n        try {\\n            if (action === \"getAllPropertyNames\") {\\n                onNameRequest(code, context);\\n            } else if (action === \"inspect\") {\\n                onInspectRequest(code, context);\\n            } else if (action === \"run\") {\\n                onRunRequest(code, context);\\n            } else {\\n                throw new Error(\"NEL: Unhandled action request: \" + action);\\n            }\\n        } catch (error) {\\n            context.sendError(error);\\n        }\\n\\n        context.releaseGlobalContext();\\n        initialContext.captureGlobalContext();\\n        initialContext._done = false;\\n    }\\n\\n    function onNameRequest(code, context) {\\n        var message = {\\n            id: context.id,\\n            names: getAllPropertyNames(run(code)),\\n        };\\n        log(\"RESULT:\", message);\\n        context.done(message);\\n    }\\n\\n    function onInspectRequest(code, context) {\\n        var message = {\\n            id: context.id,\\n            inspection: inspect(run(code)),\\n        };\\n        log(\"RESULT:\", message);\\n        context.done(message);\\n    }\\n\\n    function onRunRequest(code, context) {\\n        var result = run(code);\\n\\n        // Drop result if the run request initiated the async mode\\n        if (context._async) {\\n            return;\\n        }\\n\\n        // Drop result if the run request has already invoked context.done()\\n        if (context._done) {\\n            return;\\n        }\\n\\n        context.sendResult(result);\\n    }\\n\\n    function formatError(error) {\\n        return {\\n            ename: (error && error.name) ?\\n                error.name : typeof error,\\n            evalue: (error && error.message) ?\\n                error.message : util.inspect(error),\\n            traceback: (error && error.stack) ?\\n                error.stack.split(\"\\\\n\") : \"\",\\n        };\\n    }\\n\\n    function toMime(result) {\\n        var mimer = (typeof global.$$mimer$$ === \"function\") ?\\n            global.$$mimer$$ :\\n            defaultMimer;\\n        return mimer(result);\\n    }\\n\\n    function defaultMimer(result) {\\n        if (typeof result === \"undefined\") {\\n            return {\\n                \"text/plain\": \"undefined\"\\n            };\\n        }\\n\\n        if (result === null) {\\n            return {\\n                \"text/plain\": \"null\"\\n            };\\n        }\\n\\n        var mime;\\n        if (result._toMime) {\\n            try {\\n                mime = result._toMime();\\n            } catch (error) {}\\n        }\\n        if (typeof mime !== \"object\") {\\n            mime = {};\\n        }\\n\\n        if (!(\"text/plain\" in mime)) {\\n            try {\\n                mime[\"text/plain\"] = util.inspect(result);\\n            } catch (error) {}\\n        }\\n\\n        if (result._toHtml && !(\"text/html\" in mime)) {\\n            try {\\n                mime[\"text/html\"] = result._toHtml();\\n            } catch (error) {}\\n        }\\n\\n        if (result._toSvg && !(\"image/svg+xml\" in mime)) {\\n            try {\\n                mime[\"image/svg+xml\"] = result._toSvg();\\n            } catch (error) {}\\n        }\\n\\n        if (result._toPng && !(\"image/png\" in mime)) {\\n            try {\\n                mime[\"image/png\"] = result._toPng();\\n            } catch (error) {}\\n        }\\n\\n        if (result._toJpeg && !(\"image/jpeg\" in mime)) {\\n            try {\\n                mime[\"image/jpeg\"] = result._toJpeg();\\n            } catch (error) {}\\n        }\\n\\n        return mime;\\n    }\\n\\n    function getAllPropertyNames(object) {\\n        var propertyList = [];\\n\\n        if (object === undefined) {\\n            return [];\\n        }\\n\\n        if (object === null) {\\n            return [];\\n        }\\n\\n        var prototype;\\n        if (typeof object === \"boolean\") {\\n            prototype = Boolean.prototype;\\n        } else if (typeof object === \"number\") {\\n            prototype = Number.prototype;\\n        } else if (typeof object === \"string\") {\\n            prototype = String.prototype;\\n        } else {\\n            prototype = object;\\n        }\\n\\n        var prototypeList = [prototype];\\n\\n        function pushToPropertyList(e) {\\n            if (propertyList.indexOf(e) === -1) {\\n                propertyList.push(e);\\n            }\\n        }\\n\\n        while (true) {\\n            var names;\\n            try {\\n                names = Object.getOwnPropertyNames(prototype).sort();\\n            } catch (e) {\\n                break;\\n            }\\n            names.forEach(pushToPropertyList);\\n\\n            prototype = Object.getPrototypeOf(prototype);\\n            if (prototype === null) {\\n                break;\\n            }\\n\\n            if (prototypeList.indexOf(prototype) === -1) {\\n                prototypeList.push(prototype);\\n            }\\n        }\\n\\n        return propertyList;\\n    }\\n\\n    function inspect(object) {\\n        if (object === undefined) {\\n            return {\\n                string: \"undefined\",\\n                type: \"Undefined\",\\n            };\\n        }\\n\\n        if (object === null) {\\n            return {\\n                string: \"null\",\\n                type: \"Null\",\\n            };\\n        }\\n\\n        if (typeof object === \"boolean\") {\\n            return {\\n                string: object ? \"true\" : \"false\",\\n                type: \"Boolean\",\\n                constructorList: [\"Boolean\", \"Object\"],\\n            };\\n        }\\n\\n        if (typeof object === \"number\") {\\n            return {\\n                string: util.inspect(object),\\n                type: \"Number\",\\n                constructorList: [\"Number\", \"Object\"],\\n            };\\n        }\\n\\n        if (typeof object === \"string\") {\\n            return {\\n                string: object,\\n                type: \"String\",\\n                constructorList: [\"String\", \"Object\"],\\n                length: object.length,\\n            };\\n        }\\n\\n        if (typeof object === \"function\") {\\n            return {\\n                string: object.toString(),\\n                type: \"Function\",\\n                constructorList: [\"Function\", \"Object\"],\\n                length: object.length,\\n            };\\n        }\\n\\n        var constructorList = getConstructorList(object);\\n        var result = {\\n            string: toString(object),\\n            type: constructorList[0] || \"\",\\n            constructorList: constructorList,\\n        };\\n\\n        if (\"length\" in object) {\\n            result.length = object.length;\\n        }\\n\\n        return result;\\n\\n        function toString(object) {\\n            try {\\n                return util.inspect(object.valueOf());\\n            } catch (e) {\\n                return util.inspect(object);\\n            }\\n        }\\n\\n        function getConstructorList(object) {\\n            var constructorList = [];\\n\\n            var prototype = Object.getPrototypeOf(object);\\n            while (true) {\\n                try {\\n                    constructorList.push(prototype.constructor.name);\\n                } catch (e) {\\n                    break;\\n                }\\n                prototype = Object.getPrototypeOf(prototype);\\n            }\\n\\n            return constructorList;\\n        }\\n    }\\n\\n    function run(code) {\\n        return vm.runInThisContext(code);\\n    }\\n})();\\n',\n",
      "     execPath: 'C:\\\\Program Files\\\\nodejs\\\\node.exe',\n",
      "     debugPort: 5858,\n",
      "     _startProfilerIdleNotifier: [Function: _startProfilerIdleNotifier],\n",
      "     _stopProfilerIdleNotifier: [Function: _stopProfilerIdleNotifier],\n",
      "     _getActiveRequests: [Function: _getActiveRequests],\n",
      "     _getActiveHandles: [Function: _getActiveHandles],\n",
      "     reallyExit: [Function: reallyExit],\n",
      "     abort: [Function: abort],\n",
      "     chdir: [Function: chdir],\n",
      "     cwd: [Function: cwd],\n",
      "     umask: [Function: umask],\n",
      "     _kill: [Function: _kill],\n",
      "     _debugProcess: [Function: _debugProcess],\n",
      "     _debugPause: [Function: _debugPause],\n",
      "     _debugEnd: [Function: _debugEnd],\n",
      "     hrtime: [Function: hrtime],\n",
      "     dlopen: [Function: dlopen],\n",
      "     uptime: [Function: uptime],\n",
      "     memoryUsage: [Function: memoryUsage],\n",
      "     binding: [Function: binding],\n",
      "     _linkedBinding: [Function: _linkedBinding],\n",
      "     _setupDomainUse: [Function: _setupDomainUse],\n",
      "     _events: \n",
      "      { newListener: [Object],\n",
      "        removeListener: [Object],\n",
      "        internalMessage: [Function],\n",
      "        message: [Function: bound onMessage],\n",
      "        uncaughtException: [Function: bound onUncaughtException] },\n",
      "     _rawDebug: [Function],\n",
      "     _eventsCount: 5,\n",
      "     domain: null,\n",
      "     _maxListeners: undefined,\n",
      "     EventEmitter: \n",
      "      { [Function: EventEmitter]\n",
      "        EventEmitter: [Circular],\n",
      "        usingDomains: false,\n",
      "        defaultMaxListeners: 10,\n",
      "        init: [Function],\n",
      "        listenerCount: [Function] },\n",
      "     _fatalException: [Function],\n",
      "     _exiting: false,\n",
      "     assert: [Function],\n",
      "     config: { target_defaults: [Object], variables: [Object] },\n",
      "     nextTick: [Function: nextTick],\n",
      "     _tickCallback: [Function: _tickCallback],\n",
      "     _tickDomainCallback: [Function: _tickDomainCallback],\n",
      "     stdin: [Getter],\n",
      "     openStdin: [Function],\n",
      "     exit: [Function],\n",
      "     kill: [Function],\n",
      "     _channel: \n",
      "      Pipe {\n",
      "        bytesRead: 297,\n",
      "        _externalStream: {},\n",
      "        fd: -1,\n",
      "        writeQueueSize: 0,\n",
      "        buffering: false,\n",
      "        onread: [Function],\n",
      "        sockets: [Object] },\n",
      "     _handleQueue: null,\n",
      "     send: [Function],\n",
      "     _send: [Function],\n",
      "     connected: true,\n",
      "     disconnect: [Function],\n",
      "     _disconnect: [Function],\n",
      "     stdout: \n",
      "      Transform {\n",
      "        _readableState: [Object],\n",
      "        readable: true,\n",
      "        domain: null,\n",
      "        _events: [Object],\n",
      "        _eventsCount: 3,\n",
      "        _maxListeners: undefined,\n",
      "        _writableState: [Object],\n",
      "        writable: true,\n",
      "        allowHalfOpen: true,\n",
      "        _transformState: [Object],\n",
      "        _id: 6 },\n",
      "     stderr: \n",
      "      Transform {\n",
      "        _readableState: [Object],\n",
      "        readable: true,\n",
      "        domain: null,\n",
      "        _events: [Object],\n",
      "        _eventsCount: 3,\n",
      "        _maxListeners: undefined,\n",
      "        _writableState: [Object],\n",
      "        writable: true,\n",
      "        allowHalfOpen: true,\n",
      "        _transformState: [Object],\n",
      "        _id: 6 } },\n",
      "  GLOBAL: [Circular],\n",
      "  root: [Circular],\n",
      "  Buffer: \n",
      "   { [Function: Buffer]\n",
      "     poolSize: 8192,\n",
      "     isBuffer: [Function: isBuffer],\n",
      "     compare: [Function: compare],\n",
      "     isEncoding: [Function],\n",
      "     concat: [Function],\n",
      "     byteLength: [Function: byteLength] },\n",
      "  clearImmediate: [Function],\n",
      "  clearInterval: [Function],\n",
      "  clearTimeout: [Function],\n",
      "  setImmediate: [Function],\n",
      "  setInterval: [Function],\n",
      "  setTimeout: [Function],\n",
      "  __filename: '[eval]',\n",
      "  exports: {},\n",
      "  module: \n",
      "   Module {\n",
      "     id: '[eval]',\n",
      "     exports: {},\n",
      "     parent: undefined,\n",
      "     filename: 'F:\\\\Python Jupyter notebook\\\\Python Cookbook notebook\\\\[eval]',\n",
      "     loaded: false,\n",
      "     children: [],\n",
      "     paths: \n",
      "      [ 'F:\\\\Python Jupyter notebook\\\\Python Cookbook notebook\\\\node_modules',\n",
      "        'F:\\\\Python Jupyter notebook\\\\node_modules',\n",
      "        'F:\\\\node_modules' ] },\n",
      "  __dirname: '.',\n",
      "  require: \n",
      "   { [Function: require]\n",
      "     resolve: [Function],\n",
      "     main: undefined,\n",
      "     extensions: { '.js': [Function], '.json': [Function], '.node': [Function] },\n",
      "     cache: {},\n",
      "     registerExtension: [Function] },\n",
      "  '$$mimer$$': [Function: defaultMimer],\n",
      "  '$$done$$': [Function: bound sendResult],\n",
      "  console: \n",
      "   Console {\n",
      "     log: [Function: bound ],\n",
      "     info: [Function: bound ],\n",
      "     warn: [Function: bound ],\n",
      "     error: [Function: bound ],\n",
      "     dir: [Function: bound ],\n",
      "     time: [Function: bound ],\n",
      "     timeEnd: [Function: bound ],\n",
      "     trace: [Function: bound trace],\n",
      "     assert: [Function: bound ],\n",
      "     Console: [Function: Console] },\n",
      "  '$$': \n",
      "   { async: [Function: bound async],\n",
      "     sendResult: [Function: bound sendResult],\n",
      "     sendError: [Function: bound sendError],\n",
      "     done: [Function: bound done],\n",
      "     mime: [Function: bound sendMime],\n",
      "     text: [Function: bound sendText],\n",
      "     html: [Function: bound sendHtml],\n",
      "     svg: [Function: bound sendSvg],\n",
      "     png: [Function: bound sendPng],\n",
      "     jpeg: [Function: bound sendJpeg] } }\n"
     ]
    },
    {
     "data": {
      "text/plain": [
       "undefined"
      ]
     },
     "execution_count": 6,
     "metadata": {},
     "output_type": "execute_result"
    }
   ],
   "source": [
    "//this refers to the global exectution context\n",
    "console.log(this)"
   ]
  },
  {
   "cell_type": "code",
   "execution_count": 12,
   "metadata": {
    "collapsed": false
   },
   "outputs": [
    {
     "name": "stdout",
     "output_type": "stream",
     "text": [
      " heloo there\n",
      "{ DTRACE_NET_SERVER_CONNECTION: [Function],\n",
      "  DTRACE_NET_STREAM_END: [Function],\n",
      "  DTRACE_HTTP_SERVER_REQUEST: [Function],\n",
      "  DTRACE_HTTP_SERVER_RESPONSE: [Function],\n",
      "  DTRACE_HTTP_CLIENT_REQUEST: [Function],\n",
      "  DTRACE_HTTP_CLIENT_RESPONSE: [Function],\n",
      "  COUNTER_NET_SERVER_CONNECTION: [Function],\n",
      "  COUNTER_NET_SERVER_CONNECTION_CLOSE: [Function],\n",
      "  COUNTER_HTTP_SERVER_REQUEST: [Function],\n",
      "  COUNTER_HTTP_SERVER_RESPONSE: [Function],\n",
      "  COUNTER_HTTP_CLIENT_REQUEST: [Function],\n",
      "  COUNTER_HTTP_CLIENT_RESPONSE: [Function],\n",
      "  global: [Circular],\n",
      "  process: \n",
      "   process {\n",
      "     title: 'jupyter  notebook',\n",
      "     version: 'v4.4.7',\n",
      "     moduleLoadList: \n",
      "      [ 'Binding contextify',\n",
      "        'Binding natives',\n",
      "        'NativeModule events',\n",
      "        'NativeModule buffer',\n",
      "        'Binding buffer',\n",
      "        'NativeModule internal/util',\n",
      "        'Binding util',\n",
      "        'NativeModule timers',\n",
      "        'Binding timer_wrap',\n",
      "        'NativeModule _linklist',\n",
      "        'NativeModule assert',\n",
      "        'NativeModule util',\n",
      "        'Binding uv',\n",
      "        'NativeModule child_process',\n",
      "        'NativeModule constants',\n",
      "        'Binding constants',\n",
      "        'Binding spawn_sync',\n",
      "        'Binding pipe_wrap',\n",
      "        'NativeModule internal/child_process',\n",
      "        'NativeModule string_decoder',\n",
      "        'NativeModule net',\n",
      "        'NativeModule stream',\n",
      "        'NativeModule _stream_readable',\n",
      "        'NativeModule _stream_writable',\n",
      "        'NativeModule _stream_duplex',\n",
      "        'NativeModule _stream_transform',\n",
      "        'NativeModule _stream_passthrough',\n",
      "        'NativeModule internal/net',\n",
      "        'Binding cares_wrap',\n",
      "        'Binding tty_wrap',\n",
      "        'Binding tcp_wrap',\n",
      "        'Binding stream_wrap',\n",
      "        'NativeModule dgram',\n",
      "        'Binding udp_wrap',\n",
      "        'Binding process_wrap',\n",
      "        'NativeModule internal/socket_list',\n",
      "        'NativeModule module',\n",
      "        'NativeModule internal/module',\n",
      "        'NativeModule vm',\n",
      "        'NativeModule fs',\n",
      "        'NativeModule path',\n",
      "        'Binding fs',\n",
      "        'Binding fs_event_wrap',\n",
      "        'NativeModule console' ],\n",
      "     versions: \n",
      "      { http_parser: '2.5.2',\n",
      "        node: '4.4.7',\n",
      "        v8: '4.5.103.36',\n",
      "        uv: '1.8.0',\n",
      "        zlib: '1.2.8',\n",
      "        ares: '1.10.1-DEV',\n",
      "        icu: '56.1',\n",
      "        modules: '46',\n",
      "        openssl: '1.0.2h' },\n",
      "     arch: 'x64',\n",
      "     platform: 'win32',\n",
      "     release: \n",
      "      { name: 'node',\n",
      "        lts: 'Argon',\n",
      "        sourceUrl: 'https://nodejs.org/download/release/v4.4.7/node-v4.4.7.tar.gz',\n",
      "        headersUrl: 'https://nodejs.org/download/release/v4.4.7/node-v4.4.7-headers.tar.gz',\n",
      "        libUrl: 'https://nodejs.org/download/release/v4.4.7/win-x64/node.lib' },\n",
      "     argv: [ 'C:\\\\Program Files\\\\nodejs\\\\node.exe' ],\n",
      "     execArgv: \n",
      "      [ '--eval',\n",
      "        '/*\\n * BSD 3-Clause License\\n *\\n * Copyright (c) 2015, Nicolas Riesco and others as credited in the AUTHORS file\\n * All rights reserved.\\n *\\n * Redistribution and use in source and binary forms, with or without\\n * modification, are permitted provided that the following conditions are met:\\n *\\n * 1. Redistributions of source code must retain the above copyright notice,\\n * this list of conditions and the following disclaimer.\\n *\\n * 2. Redistributions in binary form must reproduce the above copyright notice,\\n * this list of conditions and the following disclaimer in the documentation\\n * and/or other materials provided with the distribution.\\n *\\n * 3. Neither the name of the copyright holder nor the names of its contributors\\n * may be used to endorse or promote products derived from this software without\\n * specific prior written permission.\\n *\\n * THIS SOFTWARE IS PROVIDED BY THE COPYRIGHT HOLDERS AND CONTRIBUTORS \"AS IS\"\\n * AND ANY EXPRESS OR IMPLIED WARRANTIES, INCLUDING, BUT NOT LIMITED TO, THE\\n * IMPLIED WARRANTIES OF MERCHANTABILITY AND FITNESS FOR A PARTICULAR PURPOSE\\n * ARE DISCLAIMED. IN NO EVENT SHALL THE COPYRIGHT HOLDER OR CONTRIBUTORS BE\\n * LIABLE FOR ANY DIRECT, INDIRECT, INCIDENTAL, SPECIAL, EXEMPLARY, OR\\n * CONSEQUENTIAL DAMAGES (INCLUDING, BUT NOT LIMITED TO, PROCUREMENT OF\\n * SUBSTITUTE GOODS OR SERVICES; LOSS OF USE, DATA, OR PROFITS; OR BUSINESS\\n * INTERRUPTION) HOWEVER CAUSED AND ON ANY THEORY OF LIABILITY, WHETHER IN\\n * CONTRACT, STRICT LIABILITY, OR TORT (INCLUDING NEGLIGENCE OR OTHERWISE)\\n * ARISING IN ANY WAY OUT OF THE USE OF THIS SOFTWARE, EVEN IF ADVISED OF THE\\n * POSSIBILITY OF SUCH DAMAGE.\\n *\\n */\\n\\n(function() {\\n    var DEBUG = !!process.env.DEBUG;\\n\\n    var log = DEBUG ?\\n        function log() {\\n            process.send({\\n                log: \"SERVER: \" + util.format.apply(this, arguments),\\n            });\\n        } : function noop() {};\\n\\n    var console = require(\"console\");\\n    var stream = require(\"stream\");\\n    var util = require(\"util\");\\n    var vm = require(\"vm\");\\n\\n    function Stdout(id, opt) {\\n        stream.Transform.call(this, opt);\\n\\n        this._id = id;\\n    }\\n\\n    Stdout.prototype = Object.create(stream.Transform.prototype);\\n\\n    Stdout.prototype._transform = function(data, encoding, callback) {\\n        var response = {\\n            id: this._id,\\n            stdout: data.toString(),\\n        };\\n        log(\"STDOUT:\", response);\\n        process.send(response);\\n        this.push(data);\\n        callback();\\n    };\\n\\n    function Stderr(id, opt) {\\n        stream.Transform.call(this, opt);\\n\\n        this._id = id;\\n    }\\n\\n    Stderr.prototype = Object.create(stream.Transform.prototype);\\n\\n    Stderr.prototype._transform = function(data, encoding, callback) {\\n        var response = {\\n            id: this._id,\\n            stderr: data.toString(),\\n        };\\n        log(\"STDERR:\", response);\\n        process.send(response);\\n        this.push(data);\\n        callback();\\n    };\\n\\n    function Context(id) {\\n        this.id = id;\\n\\n        this.stdout = new Stdout(this.id);\\n        this.stderr = new Stderr(this.id);\\n        this.console = new console.Console(this.stdout, this.stderr);\\n\\n        this._capturedStdout = null;\\n        this._capturedStderr = null;\\n        this._capturedConsole = null;\\n\\n        this._async = false;\\n        this._done = false;\\n\\n        // `$$` provides an interface for users to access the execution context\\n        this.$$ = Object.create(null);\\n\\n        this.$$.async = Context.prototype.async.bind(this);\\n        this.$$.sendResult = Context.prototype.sendResult.bind(this);\\n        this.$$.sendError = Context.prototype.sendError.bind(this);\\n        this.$$.done = Context.prototype.done.bind(this);\\n\\n        this.$$.mime = (function sendMime(mimeBundle) {\\n            this.done({\\n                mime: mimeBundle\\n            });\\n        }).bind(this);\\n\\n        this.$$.text = (function sendText(text) {\\n            this.done({\\n                mime: {\\n                    \"text/plain\": text\\n                }\\n            });\\n        }).bind(this);\\n\\n        this.$$.html = (function sendHtml(html) {\\n            this.done({\\n                mime: {\\n                    \"text/html\": html\\n                }\\n            });\\n        }).bind(this);\\n\\n        this.$$.svg = (function sendSvg(svg) {\\n            this.done({\\n                mime: {\\n                    \"image/svg+xml\": svg\\n                }\\n            });\\n        }).bind(this);\\n\\n        this.$$.png = (function sendPng(png) {\\n            this.done({\\n                mime: {\\n                    \"image/png\": png\\n                }\\n            });\\n        }).bind(this);\\n\\n        this.$$.jpeg = (function sendJpeg(jpeg) {\\n            this.done({\\n                mime: {\\n                    \"image/jpeg\": jpeg\\n                }\\n            });\\n        }).bind(this);\\n    }\\n\\n    Context.prototype.send = function send(message) {\\n        message.id = this.id;\\n\\n        if (this._done) {\\n            log(\"RESULT: DROPPED:\", message);\\n            return;\\n        }\\n\\n        log(\"RESULT:\", message);\\n\\n        process.send(message);\\n    };\\n\\n    Context.prototype.async = function async() {\\n        this._async = true;\\n    };\\n\\n    Context.prototype.sendResult = function sendResult(result) {\\n        this.done({\\n            mime: toMime(result)\\n        });\\n    };\\n\\n    Context.prototype.sendError = function sendError(error) {\\n        this.done({\\n            error: formatError(error)\\n        });\\n    };\\n\\n    Context.prototype.done = function done(response) {\\n        response = response || {};\\n        response.end = true;\\n\\n        this.send(response);\\n\\n        this._async = false;\\n        this._done = true;\\n    };\\n\\n    Context.prototype.captureGlobalContext = function captureGlobalContext() {\\n        this._capturedStdout = process.stdout;\\n        this._capturedStderr = process.stderr;\\n        this._capturedConsole = console;\\n\\n        this.stdout.pipe(this._capturedStdout);\\n        this.stderr.pipe(this._capturedStderr);\\n        this.console.Console = this._capturedConsole.Console;\\n\\n        delete process.stdout;\\n        process.stdout = this.stdout;\\n\\n        delete process.stderr;\\n        process.stderr = this.stderr;\\n\\n        delete global.console;\\n        global.console = this.console;\\n\\n        delete global.$$;\\n        global.$$ = this.$$;\\n\\n        if (typeof global.$$mimer$$ !== \"function\") {\\n            global.$$mimer$$ = defaultMimer;\\n        }\\n\\n        delete global.$$mime$$;\\n        Object.defineProperty(global, \"$$mime$$\", {\\n            set: this.$$.mime,\\n            configurable: true,\\n            enumerable: false,\\n        });\\n\\n        delete global.$$html$$;\\n        Object.defineProperty(global, \"$$html$$\", {\\n            set: this.$$.html,\\n            configurable: true,\\n            enumerable: false,\\n        });\\n\\n        delete global.$$svg$$;\\n        Object.defineProperty(global, \"$$svg$$\", {\\n            set: this.$$.svg,\\n            configurable: true,\\n            enumerable: false,\\n        });\\n\\n        delete global.$$png$$;\\n        Object.defineProperty(global, \"$$png$$\", {\\n            set: this.$$.png,\\n            configurable: true,\\n            enumerable: false,\\n        });\\n\\n        delete global.$$jpeg$$;\\n        Object.defineProperty(global, \"$$jpeg$$\", {\\n            set: this.$$.jpeg,\\n            configurable: true,\\n            enumerable: false,\\n        });\\n\\n        delete global.$$async$$;\\n        Object.defineProperty(global, \"$$async$$\", {\\n            get: (function() {\\n                return this._async;\\n            }).bind(this),\\n            set: (function(value) {\\n                if (value) {\\n                    this.async();\\n                }\\n                this._async = value;\\n            }).bind(this),\\n            configurable: true,\\n            enumerable: false,\\n        });\\n\\n        global.$$done$$ = this.$$.sendResult;\\n    };\\n\\n    Context.prototype.releaseGlobalContext = function releaseGlobalContext() {\\n        if (process.stdout === this.stdout) {\\n            this.stdout.unpipe();\\n\\n            delete process.stdout;\\n            process.stdout = this._capturedStdout;\\n\\n            this._capturedStdout = null;\\n        }\\n\\n        if (process.stderr === this.stderr) {\\n            this.stderr.unpipe();\\n\\n            delete process.stderr;\\n            process.stderr = this._capturedStderr;\\n\\n            this._capturedStderr = null;\\n        }\\n\\n        if (global.console === this.console) {\\n            delete global.console;\\n            global.console = this._capturedConsole;\\n\\n            this._capturedConsole = null;\\n        }\\n    };\\n\\n    // Capture the initial context\\n    // (id left undefined to indicate this is the initial context)\\n    var initialContext = new Context();\\n    initialContext.captureGlobalContext();\\n\\n    init();\\n\\n    return;\\n\\n    function init() {\\n        Object.defineProperty(global, \"$$defaultMimer$$\", {\\n            value: defaultMimer,\\n            configurable: false,\\n            writable: false,\\n            enumerable: false,\\n        });\\n\\n        process.on(\"message\", onMessage.bind(this));\\n\\n        process.on(\"uncaughtException\", onUncaughtException.bind(this));\\n    }\\n\\n    function onUncaughtException(error) {\\n        log(\"UNCAUGHTEXCEPTION:\", error.stack);\\n        process.send({\\n            stderr: error.stack.toString(),\\n        });\\n    }\\n\\n    function onMessage(request) {\\n        log(\"REQUEST:\", request);\\n\\n        var action = request[0];\\n        var code = request[1];\\n        var id = request[2];\\n\\n        initialContext.releaseGlobalContext();\\n        var context = new Context(id);\\n        context.captureGlobalContext();\\n\\n        try {\\n            if (action === \"getAllPropertyNames\") {\\n                onNameRequest(code, context);\\n            } else if (action === \"inspect\") {\\n                onInspectRequest(code, context);\\n            } else if (action === \"run\") {\\n                onRunRequest(code, context);\\n            } else {\\n                throw new Error(\"NEL: Unhandled action request: \" + action);\\n            }\\n        } catch (error) {\\n            context.sendError(error);\\n        }\\n\\n        context.releaseGlobalContext();\\n        initialContext.captureGlobalContext();\\n        initialContext._done = false;\\n    }\\n\\n    function onNameRequest(code, context) {\\n        var message = {\\n            id: context.id,\\n            names: getAllPropertyNames(run(code)),\\n        };\\n        log(\"RESULT:\", message);\\n        context.done(message);\\n    }\\n\\n    function onInspectRequest(code, context) {\\n        var message = {\\n            id: context.id,\\n            inspection: inspect(run(code)),\\n        };\\n        log(\"RESULT:\", message);\\n        context.done(message);\\n    }\\n\\n    function onRunRequest(code, context) {\\n        var result = run(code);\\n\\n        // Drop result if the run request initiated the async mode\\n        if (context._async) {\\n            return;\\n        }\\n\\n        // Drop result if the run request has already invoked context.done()\\n        if (context._done) {\\n            return;\\n        }\\n\\n        context.sendResult(result);\\n    }\\n\\n    function formatError(error) {\\n        return {\\n            ename: (error && error.name) ?\\n                error.name : typeof error,\\n            evalue: (error && error.message) ?\\n                error.message : util.inspect(error),\\n            traceback: (error && error.stack) ?\\n                error.stack.split(\"\\\\n\") : \"\",\\n        };\\n    }\\n\\n    function toMime(result) {\\n        var mimer = (typeof global.$$mimer$$ === \"function\") ?\\n            global.$$mimer$$ :\\n            defaultMimer;\\n        return mimer(result);\\n    }\\n\\n    function defaultMimer(result) {\\n        if (typeof result === \"undefined\") {\\n            return {\\n                \"text/plain\": \"undefined\"\\n            };\\n        }\\n\\n        if (result === null) {\\n            return {\\n                \"text/plain\": \"null\"\\n            };\\n        }\\n\\n        var mime;\\n        if (result._toMime) {\\n            try {\\n                mime = result._toMime();\\n            } catch (error) {}\\n        }\\n        if (typeof mime !== \"object\") {\\n            mime = {};\\n        }\\n\\n        if (!(\"text/plain\" in mime)) {\\n            try {\\n                mime[\"text/plain\"] = util.inspect(result);\\n            } catch (error) {}\\n        }\\n\\n        if (result._toHtml && !(\"text/html\" in mime)) {\\n            try {\\n                mime[\"text/html\"] = result._toHtml();\\n            } catch (error) {}\\n        }\\n\\n        if (result._toSvg && !(\"image/svg+xml\" in mime)) {\\n            try {\\n                mime[\"image/svg+xml\"] = result._toSvg();\\n            } catch (error) {}\\n        }\\n\\n        if (result._toPng && !(\"image/png\" in mime)) {\\n            try {\\n                mime[\"image/png\"] = result._toPng();\\n            } catch (error) {}\\n        }\\n\\n        if (result._toJpeg && !(\"image/jpeg\" in mime)) {\\n            try {\\n                mime[\"image/jpeg\"] = result._toJpeg();\\n            } catch (error) {}\\n        }\\n\\n        return mime;\\n    }\\n\\n    function getAllPropertyNames(object) {\\n        var propertyList = [];\\n\\n        if (object === undefined) {\\n            return [];\\n        }\\n\\n        if (object === null) {\\n            return [];\\n        }\\n\\n        var prototype;\\n        if (typeof object === \"boolean\") {\\n            prototype = Boolean.prototype;\\n        } else if (typeof object === \"number\") {\\n            prototype = Number.prototype;\\n        } else if (typeof object === \"string\") {\\n            prototype = String.prototype;\\n        } else {\\n            prototype = object;\\n        }\\n\\n        var prototypeList = [prototype];\\n\\n        function pushToPropertyList(e) {\\n            if (propertyList.indexOf(e) === -1) {\\n                propertyList.push(e);\\n            }\\n        }\\n\\n        while (true) {\\n            var names;\\n            try {\\n                names = Object.getOwnPropertyNames(prototype).sort();\\n            } catch (e) {\\n                break;\\n            }\\n            names.forEach(pushToPropertyList);\\n\\n            prototype = Object.getPrototypeOf(prototype);\\n            if (prototype === null) {\\n                break;\\n            }\\n\\n            if (prototypeList.indexOf(prototype) === -1) {\\n                prototypeList.push(prototype);\\n            }\\n        }\\n\\n        return propertyList;\\n    }\\n\\n    function inspect(object) {\\n        if (object === undefined) {\\n            return {\\n                string: \"undefined\",\\n                type: \"Undefined\",\\n            };\\n        }\\n\\n        if (object === null) {\\n            return {\\n                string: \"null\",\\n                type: \"Null\",\\n            };\\n        }\\n\\n        if (typeof object === \"boolean\") {\\n            return {\\n                string: object ? \"true\" : \"false\",\\n                type: \"Boolean\",\\n                constructorList: [\"Boolean\", \"Object\"],\\n            };\\n        }\\n\\n        if (typeof object === \"number\") {\\n            return {\\n                string: util.inspect(object),\\n                type: \"Number\",\\n                constructorList: [\"Number\", \"Object\"],\\n            };\\n        }\\n\\n        if (typeof object === \"string\") {\\n            return {\\n                string: object,\\n                type: \"String\",\\n                constructorList: [\"String\", \"Object\"],\\n                length: object.length,\\n            };\\n        }\\n\\n        if (typeof object === \"function\") {\\n            return {\\n                string: object.toString(),\\n                type: \"Function\",\\n                constructorList: [\"Function\", \"Object\"],\\n                length: object.length,\\n            };\\n        }\\n\\n        var constructorList = getConstructorList(object);\\n        var result = {\\n            string: toString(object),\\n            type: constructorList[0] || \"\",\\n            constructorList: constructorList,\\n        };\\n\\n        if (\"length\" in object) {\\n            result.length = object.length;\\n        }\\n\\n        return result;\\n\\n        function toString(object) {\\n            try {\\n                return util.inspect(object.valueOf());\\n            } catch (e) {\\n                return util.inspect(object);\\n            }\\n        }\\n\\n        function getConstructorList(object) {\\n            var constructorList = [];\\n\\n            var prototype = Object.getPrototypeOf(object);\\n            while (true) {\\n                try {\\n                    constructorList.push(prototype.constructor.name);\\n                } catch (e) {\\n                    break;\\n                }\\n                prototype = Object.getPrototypeOf(prototype);\\n            }\\n\\n            return constructorList;\\n        }\\n    }\\n\\n    function run(code) {\\n        return vm.runInThisContext(code);\\n    }\\n})();\\n' ],\n",
      "     env: \n",
      "      { ALLUSERSPROFILE: 'C:\\\\ProgramData',\n",
      "        AMDAPPSDKROOT: 'C:\\\\Program Files (x86)\\\\AMD APP\\\\',\n",
      "        APPDATA: 'C:\\\\Users\\\\Robus\\\\AppData\\\\Roaming',\n",
      "        CHOCOLATEYINSTALL: 'C:\\\\ProgramData\\\\chocolatey',\n",
      "        CHOCOLATEYLASTPATHUPDATE: 'Sun Jan  1 09:21:51 2017',\n",
      "        COMMONPROGRAMFILES: 'C:\\\\Program Files\\\\Common Files',\n",
      "        'COMMONPROGRAMFILES(X86)': 'C:\\\\Program Files (x86)\\\\Common Files',\n",
      "        COMMONPROGRAMW6432: 'C:\\\\Program Files\\\\Common Files',\n",
      "        COMPUTERNAME: 'ROBUS_COMPUTER',\n",
      "        COMSPEC: 'C:\\\\Windows\\\\system32\\\\cmd.exe',\n",
      "        FP_NO_HOST_CHECK: 'NO',\n",
      "        GTK_BASEPATH: 'C:\\\\Program Files (x86)\\\\GtkSharp\\\\2.12\\\\',\n",
      "        HOMEDRIVE: 'C:',\n",
      "        HOMEPATH: '\\\\Users\\\\Robus',\n",
      "        IPY_INTERRUPT_EVENT: '1048',\n",
      "        JAVA_HOME: 'C:\\\\Program Files\\\\Java\\\\jdk1.8.0_91\\\\',\n",
      "        JPY_INTERRUPT_EVENT: '1048',\n",
      "        JPY_PARENT_PID: '1076',\n",
      "        LOCALAPPDATA: 'C:\\\\Users\\\\Robus\\\\AppData\\\\Local',\n",
      "        LOGONSERVER: '\\\\\\\\ROBUS_COMPUTER',\n",
      "        NUMBER_OF_PROCESSORS: '4',\n",
      "        OS: 'Windows_NT',\n",
      "        PATH: 'Z:\\\\anaconda\\\\Library\\\\bin;Z:\\\\anaconda\\\\Scripts;Z:\\\\anaconda\\\\Library\\\\bin;C:\\\\Program Files (x86)\\\\AMD APP\\\\bin\\\\x86_64;C:\\\\Program Files (x86)\\\\AMD APP\\\\bin\\\\x86;C:\\\\ProgramData\\\\Oracle\\\\Java\\\\javapath;C:\\\\Windows\\\\system32;C:\\\\Windows;C:\\\\Windows\\\\System32\\\\Wbem;C:\\\\Windows\\\\System32\\\\WindowsPowerShell\\\\v1.0\\\\;C:\\\\Program Files (x86)\\\\ATI Technologies\\\\ATI.ACE\\\\Core-Static;C:\\\\Program Files (x86)\\\\Skype\\\\Phone\\\\;C:\\\\python34;C:\\\\Program Files\\\\nodejs\\\\;C:\\\\Program Files\\\\PostgreSQL\\\\9.5\\\\bin;Z:\\\\scripts_personal;C:\\\\Program Files (x86)\\\\Google\\\\Chrome;C:\\\\Program Files\\\\Git\\\\cmd;C:\\\\Program Files\\\\MySQL\\\\MySQL Utilities 1.6\\\\;C:\\\\Program Files (x86)\\\\GtkSharp\\\\2.12\\\\bin;Z:\\\\anaconda;Z:\\\\anaconda\\\\Scripts;Z:\\\\anaconda\\\\Library\\\\bin;C:\\\\Ruby200-x64\\\\bin;C:\\\\Users\\\\Robus\\\\AppData\\\\Roaming\\\\npm;Z:\\\\scripts_persona;C:\\\\MinGW\\\\bin;l;C:\\\\Users\\\\Robus\\\\AppData\\\\Local\\\\atom\\\\bin;C:\\\\Program Files (x86)\\\\Microsoft VS Code\\\\bin',\n",
      "        PATHEXT: '.COM;.EXE;.BAT;.CMD;.VBS;.VBE;.JSE;.WSF;.WSH;.MSC',\n",
      "        PROCESSOR_ARCHITECTURE: 'AMD64',\n",
      "        PROCESSOR_IDENTIFIER: 'Intel64 Family 6 Model 58 Stepping 9, GenuineIntel',\n",
      "        PROCESSOR_LEVEL: '6',\n",
      "        PROCESSOR_REVISION: '3a09',\n",
      "        PROGRAMDATA: 'C:\\\\ProgramData',\n",
      "        PROGRAMFILES: 'C:\\\\Program Files',\n",
      "        'PROGRAMFILES(X86)': 'C:\\\\Program Files (x86)',\n",
      "        PROGRAMW6432: 'C:\\\\Program Files',\n",
      "        PROMPT: '$P$G',\n",
      "        PSMODULEPATH: 'C:\\\\Windows\\\\system32\\\\WindowsPowerShell\\\\v1.0\\\\Modules\\\\',\n",
      "        PUBLIC: 'C:\\\\Users\\\\Public',\n",
      "        SESSIONNAME: 'Console',\n",
      "        SYSTEMDRIVE: 'C:',\n",
      "        SYSTEMROOT: 'C:\\\\Windows',\n",
      "        TEMP: 'C:\\\\Users\\\\Robus\\\\AppData\\\\Local\\\\Temp',\n",
      "        TMP: 'C:\\\\Users\\\\Robus\\\\AppData\\\\Local\\\\Temp',\n",
      "        USERDOMAIN: 'Robus_Computer',\n",
      "        USERNAME: 'Robus',\n",
      "        USERPROFILE: 'C:\\\\Users\\\\Robus',\n",
      "        VBOX_MSI_INSTALL_PATH: 'C:\\\\Program Files\\\\Oracle\\\\VirtualBox\\\\',\n",
      "        VS140COMNTOOLS: 'C:\\\\Program Files (x86)\\\\Microsoft Visual Studio 14.0\\\\Common7\\\\Tools\\\\',\n",
      "        WINDIR: 'C:\\\\Windows',\n",
      "        WINDOWS_TRACING_FLAGS: '3',\n",
      "        WINDOWS_TRACING_LOGFILE: 'C:\\\\BVTBin\\\\Tests\\\\installpackage\\\\csilogfile.log' },\n",
      "     pid: 7876,\n",
      "     features: \n",
      "      { debug: false,\n",
      "        uv: true,\n",
      "        ipv6: true,\n",
      "        tls_npn: true,\n",
      "        tls_sni: true,\n",
      "        tls_ocsp: true,\n",
      "        tls: true },\n",
      "     _needImmediateCallback: false,\n",
      "     _eval: '/*\\n * BSD 3-Clause License\\n *\\n * Copyright (c) 2015, Nicolas Riesco and others as credited in the AUTHORS file\\n * All rights reserved.\\n *\\n * Redistribution and use in source and binary forms, with or without\\n * modification, are permitted provided that the following conditions are met:\\n *\\n * 1. Redistributions of source code must retain the above copyright notice,\\n * this list of conditions and the following disclaimer.\\n *\\n * 2. Redistributions in binary form must reproduce the above copyright notice,\\n * this list of conditions and the following disclaimer in the documentation\\n * and/or other materials provided with the distribution.\\n *\\n * 3. Neither the name of the copyright holder nor the names of its contributors\\n * may be used to endorse or promote products derived from this software without\\n * specific prior written permission.\\n *\\n * THIS SOFTWARE IS PROVIDED BY THE COPYRIGHT HOLDERS AND CONTRIBUTORS \"AS IS\"\\n * AND ANY EXPRESS OR IMPLIED WARRANTIES, INCLUDING, BUT NOT LIMITED TO, THE\\n * IMPLIED WARRANTIES OF MERCHANTABILITY AND FITNESS FOR A PARTICULAR PURPOSE\\n * ARE DISCLAIMED. IN NO EVENT SHALL THE COPYRIGHT HOLDER OR CONTRIBUTORS BE\\n * LIABLE FOR ANY DIRECT, INDIRECT, INCIDENTAL, SPECIAL, EXEMPLARY, OR\\n * CONSEQUENTIAL DAMAGES (INCLUDING, BUT NOT LIMITED TO, PROCUREMENT OF\\n * SUBSTITUTE GOODS OR SERVICES; LOSS OF USE, DATA, OR PROFITS; OR BUSINESS\\n * INTERRUPTION) HOWEVER CAUSED AND ON ANY THEORY OF LIABILITY, WHETHER IN\\n * CONTRACT, STRICT LIABILITY, OR TORT (INCLUDING NEGLIGENCE OR OTHERWISE)\\n * ARISING IN ANY WAY OUT OF THE USE OF THIS SOFTWARE, EVEN IF ADVISED OF THE\\n * POSSIBILITY OF SUCH DAMAGE.\\n *\\n */\\n\\n(function() {\\n    var DEBUG = !!process.env.DEBUG;\\n\\n    var log = DEBUG ?\\n        function log() {\\n            process.send({\\n                log: \"SERVER: \" + util.format.apply(this, arguments),\\n            });\\n        } : function noop() {};\\n\\n    var console = require(\"console\");\\n    var stream = require(\"stream\");\\n    var util = require(\"util\");\\n    var vm = require(\"vm\");\\n\\n    function Stdout(id, opt) {\\n        stream.Transform.call(this, opt);\\n\\n        this._id = id;\\n    }\\n\\n    Stdout.prototype = Object.create(stream.Transform.prototype);\\n\\n    Stdout.prototype._transform = function(data, encoding, callback) {\\n        var response = {\\n            id: this._id,\\n            stdout: data.toString(),\\n        };\\n        log(\"STDOUT:\", response);\\n        process.send(response);\\n        this.push(data);\\n        callback();\\n    };\\n\\n    function Stderr(id, opt) {\\n        stream.Transform.call(this, opt);\\n\\n        this._id = id;\\n    }\\n\\n    Stderr.prototype = Object.create(stream.Transform.prototype);\\n\\n    Stderr.prototype._transform = function(data, encoding, callback) {\\n        var response = {\\n            id: this._id,\\n            stderr: data.toString(),\\n        };\\n        log(\"STDERR:\", response);\\n        process.send(response);\\n        this.push(data);\\n        callback();\\n    };\\n\\n    function Context(id) {\\n        this.id = id;\\n\\n        this.stdout = new Stdout(this.id);\\n        this.stderr = new Stderr(this.id);\\n        this.console = new console.Console(this.stdout, this.stderr);\\n\\n        this._capturedStdout = null;\\n        this._capturedStderr = null;\\n        this._capturedConsole = null;\\n\\n        this._async = false;\\n        this._done = false;\\n\\n        // `$$` provides an interface for users to access the execution context\\n        this.$$ = Object.create(null);\\n\\n        this.$$.async = Context.prototype.async.bind(this);\\n        this.$$.sendResult = Context.prototype.sendResult.bind(this);\\n        this.$$.sendError = Context.prototype.sendError.bind(this);\\n        this.$$.done = Context.prototype.done.bind(this);\\n\\n        this.$$.mime = (function sendMime(mimeBundle) {\\n            this.done({\\n                mime: mimeBundle\\n            });\\n        }).bind(this);\\n\\n        this.$$.text = (function sendText(text) {\\n            this.done({\\n                mime: {\\n                    \"text/plain\": text\\n                }\\n            });\\n        }).bind(this);\\n\\n        this.$$.html = (function sendHtml(html) {\\n            this.done({\\n                mime: {\\n                    \"text/html\": html\\n                }\\n            });\\n        }).bind(this);\\n\\n        this.$$.svg = (function sendSvg(svg) {\\n            this.done({\\n                mime: {\\n                    \"image/svg+xml\": svg\\n                }\\n            });\\n        }).bind(this);\\n\\n        this.$$.png = (function sendPng(png) {\\n            this.done({\\n                mime: {\\n                    \"image/png\": png\\n                }\\n            });\\n        }).bind(this);\\n\\n        this.$$.jpeg = (function sendJpeg(jpeg) {\\n            this.done({\\n                mime: {\\n                    \"image/jpeg\": jpeg\\n                }\\n            });\\n        }).bind(this);\\n    }\\n\\n    Context.prototype.send = function send(message) {\\n        message.id = this.id;\\n\\n        if (this._done) {\\n            log(\"RESULT: DROPPED:\", message);\\n            return;\\n        }\\n\\n        log(\"RESULT:\", message);\\n\\n        process.send(message);\\n    };\\n\\n    Context.prototype.async = function async() {\\n        this._async = true;\\n    };\\n\\n    Context.prototype.sendResult = function sendResult(result) {\\n        this.done({\\n            mime: toMime(result)\\n        });\\n    };\\n\\n    Context.prototype.sendError = function sendError(error) {\\n        this.done({\\n            error: formatError(error)\\n        });\\n    };\\n\\n    Context.prototype.done = function done(response) {\\n        response = response || {};\\n        response.end = true;\\n\\n        this.send(response);\\n\\n        this._async = false;\\n        this._done = true;\\n    };\\n\\n    Context.prototype.captureGlobalContext = function captureGlobalContext() {\\n        this._capturedStdout = process.stdout;\\n        this._capturedStderr = process.stderr;\\n        this._capturedConsole = console;\\n\\n        this.stdout.pipe(this._capturedStdout);\\n        this.stderr.pipe(this._capturedStderr);\\n        this.console.Console = this._capturedConsole.Console;\\n\\n        delete process.stdout;\\n        process.stdout = this.stdout;\\n\\n        delete process.stderr;\\n        process.stderr = this.stderr;\\n\\n        delete global.console;\\n        global.console = this.console;\\n\\n        delete global.$$;\\n        global.$$ = this.$$;\\n\\n        if (typeof global.$$mimer$$ !== \"function\") {\\n            global.$$mimer$$ = defaultMimer;\\n        }\\n\\n        delete global.$$mime$$;\\n        Object.defineProperty(global, \"$$mime$$\", {\\n            set: this.$$.mime,\\n            configurable: true,\\n            enumerable: false,\\n        });\\n\\n        delete global.$$html$$;\\n        Object.defineProperty(global, \"$$html$$\", {\\n            set: this.$$.html,\\n            configurable: true,\\n            enumerable: false,\\n        });\\n\\n        delete global.$$svg$$;\\n        Object.defineProperty(global, \"$$svg$$\", {\\n            set: this.$$.svg,\\n            configurable: true,\\n            enumerable: false,\\n        });\\n\\n        delete global.$$png$$;\\n        Object.defineProperty(global, \"$$png$$\", {\\n            set: this.$$.png,\\n            configurable: true,\\n            enumerable: false,\\n        });\\n\\n        delete global.$$jpeg$$;\\n        Object.defineProperty(global, \"$$jpeg$$\", {\\n            set: this.$$.jpeg,\\n            configurable: true,\\n            enumerable: false,\\n        });\\n\\n        delete global.$$async$$;\\n        Object.defineProperty(global, \"$$async$$\", {\\n            get: (function() {\\n                return this._async;\\n            }).bind(this),\\n            set: (function(value) {\\n                if (value) {\\n                    this.async();\\n                }\\n                this._async = value;\\n            }).bind(this),\\n            configurable: true,\\n            enumerable: false,\\n        });\\n\\n        global.$$done$$ = this.$$.sendResult;\\n    };\\n\\n    Context.prototype.releaseGlobalContext = function releaseGlobalContext() {\\n        if (process.stdout === this.stdout) {\\n            this.stdout.unpipe();\\n\\n            delete process.stdout;\\n            process.stdout = this._capturedStdout;\\n\\n            this._capturedStdout = null;\\n        }\\n\\n        if (process.stderr === this.stderr) {\\n            this.stderr.unpipe();\\n\\n            delete process.stderr;\\n            process.stderr = this._capturedStderr;\\n\\n            this._capturedStderr = null;\\n        }\\n\\n        if (global.console === this.console) {\\n            delete global.console;\\n            global.console = this._capturedConsole;\\n\\n            this._capturedConsole = null;\\n        }\\n    };\\n\\n    // Capture the initial context\\n    // (id left undefined to indicate this is the initial context)\\n    var initialContext = new Context();\\n    initialContext.captureGlobalContext();\\n\\n    init();\\n\\n    return;\\n\\n    function init() {\\n        Object.defineProperty(global, \"$$defaultMimer$$\", {\\n            value: defaultMimer,\\n            configurable: false,\\n            writable: false,\\n            enumerable: false,\\n        });\\n\\n        process.on(\"message\", onMessage.bind(this));\\n\\n        process.on(\"uncaughtException\", onUncaughtException.bind(this));\\n    }\\n\\n    function onUncaughtException(error) {\\n        log(\"UNCAUGHTEXCEPTION:\", error.stack);\\n        process.send({\\n            stderr: error.stack.toString(),\\n        });\\n    }\\n\\n    function onMessage(request) {\\n        log(\"REQUEST:\", request);\\n\\n        var action = request[0];\\n        var code = request[1];\\n        var id = request[2];\\n\\n        initialContext.releaseGlobalContext();\\n        var context = new Context(id);\\n        context.captureGlobalContext();\\n\\n        try {\\n            if (action === \"getAllPropertyNames\") {\\n                onNameRequest(code, context);\\n            } else if (action === \"inspect\") {\\n                onInspectRequest(code, context);\\n            } else if (action === \"run\") {\\n                onRunRequest(code, context);\\n            } else {\\n                throw new Error(\"NEL: Unhandled action request: \" + action);\\n            }\\n        } catch (error) {\\n            context.sendError(error);\\n        }\\n\\n        context.releaseGlobalContext();\\n        initialContext.captureGlobalContext();\\n        initialContext._done = false;\\n    }\\n\\n    function onNameRequest(code, context) {\\n        var message = {\\n            id: context.id,\\n            names: getAllPropertyNames(run(code)),\\n        };\\n        log(\"RESULT:\", message);\\n        context.done(message);\\n    }\\n\\n    function onInspectRequest(code, context) {\\n        var message = {\\n            id: context.id,\\n            inspection: inspect(run(code)),\\n        };\\n        log(\"RESULT:\", message);\\n        context.done(message);\\n    }\\n\\n    function onRunRequest(code, context) {\\n        var result = run(code);\\n\\n        // Drop result if the run request initiated the async mode\\n        if (context._async) {\\n            return;\\n        }\\n\\n        // Drop result if the run request has already invoked context.done()\\n        if (context._done) {\\n            return;\\n        }\\n\\n        context.sendResult(result);\\n    }\\n\\n    function formatError(error) {\\n        return {\\n            ename: (error && error.name) ?\\n                error.name : typeof error,\\n            evalue: (error && error.message) ?\\n                error.message : util.inspect(error),\\n            traceback: (error && error.stack) ?\\n                error.stack.split(\"\\\\n\") : \"\",\\n        };\\n    }\\n\\n    function toMime(result) {\\n        var mimer = (typeof global.$$mimer$$ === \"function\") ?\\n            global.$$mimer$$ :\\n            defaultMimer;\\n        return mimer(result);\\n    }\\n\\n    function defaultMimer(result) {\\n        if (typeof result === \"undefined\") {\\n            return {\\n                \"text/plain\": \"undefined\"\\n            };\\n        }\\n\\n        if (result === null) {\\n            return {\\n                \"text/plain\": \"null\"\\n            };\\n        }\\n\\n        var mime;\\n        if (result._toMime) {\\n            try {\\n                mime = result._toMime();\\n            } catch (error) {}\\n        }\\n        if (typeof mime !== \"object\") {\\n            mime = {};\\n        }\\n\\n        if (!(\"text/plain\" in mime)) {\\n            try {\\n                mime[\"text/plain\"] = util.inspect(result);\\n            } catch (error) {}\\n        }\\n\\n        if (result._toHtml && !(\"text/html\" in mime)) {\\n            try {\\n                mime[\"text/html\"] = result._toHtml();\\n            } catch (error) {}\\n        }\\n\\n        if (result._toSvg && !(\"image/svg+xml\" in mime)) {\\n            try {\\n                mime[\"image/svg+xml\"] = result._toSvg();\\n            } catch (error) {}\\n        }\\n\\n        if (result._toPng && !(\"image/png\" in mime)) {\\n            try {\\n                mime[\"image/png\"] = result._toPng();\\n            } catch (error) {}\\n        }\\n\\n        if (result._toJpeg && !(\"image/jpeg\" in mime)) {\\n            try {\\n                mime[\"image/jpeg\"] = result._toJpeg();\\n            } catch (error) {}\\n        }\\n\\n        return mime;\\n    }\\n\\n    function getAllPropertyNames(object) {\\n        var propertyList = [];\\n\\n        if (object === undefined) {\\n            return [];\\n        }\\n\\n        if (object === null) {\\n            return [];\\n        }\\n\\n        var prototype;\\n        if (typeof object === \"boolean\") {\\n            prototype = Boolean.prototype;\\n        } else if (typeof object === \"number\") {\\n            prototype = Number.prototype;\\n        } else if (typeof object === \"string\") {\\n            prototype = String.prototype;\\n        } else {\\n            prototype = object;\\n        }\\n\\n        var prototypeList = [prototype];\\n\\n        function pushToPropertyList(e) {\\n            if (propertyList.indexOf(e) === -1) {\\n                propertyList.push(e);\\n            }\\n        }\\n\\n        while (true) {\\n            var names;\\n            try {\\n                names = Object.getOwnPropertyNames(prototype).sort();\\n            } catch (e) {\\n                break;\\n            }\\n            names.forEach(pushToPropertyList);\\n\\n            prototype = Object.getPrototypeOf(prototype);\\n            if (prototype === null) {\\n                break;\\n            }\\n\\n            if (prototypeList.indexOf(prototype) === -1) {\\n                prototypeList.push(prototype);\\n            }\\n        }\\n\\n        return propertyList;\\n    }\\n\\n    function inspect(object) {\\n        if (object === undefined) {\\n            return {\\n                string: \"undefined\",\\n                type: \"Undefined\",\\n            };\\n        }\\n\\n        if (object === null) {\\n            return {\\n                string: \"null\",\\n                type: \"Null\",\\n            };\\n        }\\n\\n        if (typeof object === \"boolean\") {\\n            return {\\n                string: object ? \"true\" : \"false\",\\n                type: \"Boolean\",\\n                constructorList: [\"Boolean\", \"Object\"],\\n            };\\n        }\\n\\n        if (typeof object === \"number\") {\\n            return {\\n                string: util.inspect(object),\\n                type: \"Number\",\\n                constructorList: [\"Number\", \"Object\"],\\n            };\\n        }\\n\\n        if (typeof object === \"string\") {\\n            return {\\n                string: object,\\n                type: \"String\",\\n                constructorList: [\"String\", \"Object\"],\\n                length: object.length,\\n            };\\n        }\\n\\n        if (typeof object === \"function\") {\\n            return {\\n                string: object.toString(),\\n                type: \"Function\",\\n                constructorList: [\"Function\", \"Object\"],\\n                length: object.length,\\n            };\\n        }\\n\\n        var constructorList = getConstructorList(object);\\n        var result = {\\n            string: toString(object),\\n            type: constructorList[0] || \"\",\\n            constructorList: constructorList,\\n        };\\n\\n        if (\"length\" in object) {\\n            result.length = object.length;\\n        }\\n\\n        return result;\\n\\n        function toString(object) {\\n            try {\\n                return util.inspect(object.valueOf());\\n            } catch (e) {\\n                return util.inspect(object);\\n            }\\n        }\\n\\n        function getConstructorList(object) {\\n            var constructorList = [];\\n\\n            var prototype = Object.getPrototypeOf(object);\\n            while (true) {\\n                try {\\n                    constructorList.push(prototype.constructor.name);\\n                } catch (e) {\\n                    break;\\n                }\\n                prototype = Object.getPrototypeOf(prototype);\\n            }\\n\\n            return constructorList;\\n        }\\n    }\\n\\n    function run(code) {\\n        return vm.runInThisContext(code);\\n    }\\n})();\\n',\n",
      "     execPath: 'C:\\\\Program Files\\\\nodejs\\\\node.exe',\n",
      "     debugPort: 5858,\n",
      "     _startProfilerIdleNotifier: [Function: _startProfilerIdleNotifier],\n",
      "     _stopProfilerIdleNotifier: [Function: _stopProfilerIdleNotifier],\n",
      "     _getActiveRequests: [Function: _getActiveRequests],\n",
      "     _getActiveHandles: [Function: _getActiveHandles],\n",
      "     reallyExit: [Function: reallyExit],\n",
      "     abort: [Function: abort],\n",
      "     chdir: [Function: chdir],\n",
      "     cwd: [Function: cwd],\n",
      "     umask: [Function: umask],\n",
      "     _kill: [Function: _kill],\n",
      "     _debugProcess: [Function: _debugProcess],\n",
      "     _debugPause: [Function: _debugPause],\n",
      "     _debugEnd: [Function: _debugEnd],\n",
      "     hrtime: [Function: hrtime],\n",
      "     dlopen: [Function: dlopen],\n",
      "     uptime: [Function: uptime],\n",
      "     memoryUsage: [Function: memoryUsage],\n",
      "     binding: [Function: binding],\n",
      "     _linkedBinding: [Function: _linkedBinding],\n",
      "     _setupDomainUse: [Function: _setupDomainUse],\n",
      "     _events: \n",
      "      { newListener: [Object],\n",
      "        removeListener: [Object],\n",
      "        internalMessage: [Function],\n",
      "        message: [Function: bound onMessage],\n",
      "        uncaughtException: [Function: bound onUncaughtException] },\n",
      "     _rawDebug: [Function],\n",
      "     _eventsCount: 5,\n",
      "     domain: null,\n",
      "     _maxListeners: undefined,\n",
      "     EventEmitter: \n",
      "      { [Function: EventEmitter]\n",
      "        EventEmitter: [Circular],\n",
      "        usingDomains: false,\n",
      "        defaultMaxListeners: 10,\n",
      "        init: [Function],\n",
      "        listenerCount: [Function] },\n",
      "     _fatalException: [Function],\n",
      "     _exiting: false,\n",
      "     assert: [Function],\n",
      "     config: { target_defaults: [Object], variables: [Object] },\n",
      "     nextTick: [Function: nextTick],\n",
      "     _tickCallback: [Function: _tickCallback],\n",
      "     _tickDomainCallback: [Function: _tickDomainCallback],\n",
      "     stdin: [Getter],\n",
      "     openStdin: [Function],\n",
      "     exit: [Function],\n",
      "     kill: [Function],\n",
      "     _channel: \n",
      "      Pipe {\n",
      "        bytesRead: 957,\n",
      "        _externalStream: {},\n",
      "        fd: -1,\n",
      "        writeQueueSize: 0,\n",
      "        buffering: false,\n",
      "        onread: [Function],\n",
      "        sockets: [Object] },\n",
      "     _handleQueue: null,\n",
      "     send: [Function],\n",
      "     _send: [Function],\n",
      "     connected: true,\n",
      "     disconnect: [Function],\n",
      "     _disconnect: [Function],\n",
      "     stdout: \n",
      "      Transform {\n",
      "        _readableState: [Object],\n",
      "        readable: true,\n",
      "        domain: null,\n",
      "        _events: [Object],\n",
      "        _eventsCount: 3,\n",
      "        _maxListeners: undefined,\n",
      "        _writableState: [Object],\n",
      "        writable: true,\n",
      "        allowHalfOpen: true,\n",
      "        _transformState: [Object],\n",
      "        _id: 12 },\n",
      "     stderr: \n",
      "      Transform {\n",
      "        _readableState: [Object],\n",
      "        readable: true,\n",
      "        domain: null,\n",
      "        _events: [Object],\n",
      "        _eventsCount: 3,\n",
      "        _maxListeners: undefined,\n",
      "        _writableState: [Object],\n",
      "        writable: true,\n",
      "        allowHalfOpen: true,\n",
      "        _transformState: [Object],\n",
      "        _id: 12 } },\n",
      "  GLOBAL: [Circular],\n",
      "  root: [Circular],\n",
      "  Buffer: \n",
      "   { [Function: Buffer]\n",
      "     poolSize: 8192,\n",
      "     isBuffer: [Function: isBuffer],\n",
      "     compare: [Function: compare],\n",
      "     isEncoding: [Function],\n",
      "     concat: [Function],\n",
      "     byteLength: [Function: byteLength] },\n",
      "  clearImmediate: [Function],\n",
      "  clearInterval: [Function],\n",
      "  clearTimeout: [Function],\n",
      "  setImmediate: [Function],\n",
      "  setInterval: [Function],\n",
      "  setTimeout: [Function],\n",
      "  __filename: '[eval]',\n",
      "  exports: {},\n",
      "  module: \n",
      "   Module {\n",
      "     id: '[eval]',\n",
      "     exports: {},\n",
      "     parent: undefined,\n",
      "     filename: 'F:\\\\Python Jupyter notebook\\\\Python Cookbook notebook\\\\[eval]',\n",
      "     loaded: false,\n",
      "     children: [],\n",
      "     paths: \n",
      "      [ 'F:\\\\Python Jupyter notebook\\\\Python Cookbook notebook\\\\node_modules',\n",
      "        'F:\\\\Python Jupyter notebook\\\\node_modules',\n",
      "        'F:\\\\node_modules' ] },\n",
      "  __dirname: '.',\n",
      "  require: \n",
      "   { [Function: require]\n",
      "     resolve: [Function],\n",
      "     main: undefined,\n",
      "     extensions: { '.js': [Function], '.json': [Function], '.node': [Function] },\n",
      "     cache: {},\n",
      "     registerExtension: [Function] },\n",
      "  '$$mimer$$': [Function: defaultMimer],\n",
      "  '$$done$$': [Function: bound sendResult],\n",
      "  greeting: [Function: greeting],\n",
      "  name: ' heloo there',\n",
      "  console: \n",
      "   Console {\n",
      "     log: [Function: bound ],\n",
      "     info: [Function: bound ],\n",
      "     warn: [Function: bound ],\n",
      "     error: [Function: bound ],\n",
      "     dir: [Function: bound ],\n",
      "     time: [Function: bound ],\n",
      "     timeEnd: [Function: bound ],\n",
      "     trace: [Function: bound trace],\n",
      "     assert: [Function: bound ],\n",
      "     Console: [Function: Console] },\n",
      "  '$$': \n",
      "   { async: [Function: bound async],\n",
      "     sendResult: [Function: bound sendResult],\n",
      "     sendError: [Function: bound sendError],\n",
      "     done: [Function: bound done],\n",
      "     mime: [Function: bound sendMime],\n",
      "     text: [Function: bound sendText],\n",
      "     html: [Function: bound sendHtml],\n",
      "     svg: [Function: bound sendSvg],\n",
      "     png: [Function: bound sendPng],\n",
      "     jpeg: [Function: bound sendJpeg] } }\n"
     ]
    },
    {
     "data": {
      "text/plain": [
       "undefined"
      ]
     },
     "execution_count": 12,
     "metadata": {},
     "output_type": "execute_result"
    }
   ],
   "source": [
    "function greeting(){\n",
    "    this.name = ' heloo there'\n",
    "    console.log(this.name)\n",
    "    //this refers to global object even thougth is is inside a function\n",
    "    console.log(this)\n",
    "    \n",
    "}\n",
    "greeting()\n",
    "\n"
   ]
  },
  {
   "cell_type": "code",
   "execution_count": 14,
   "metadata": {
    "collapsed": false
   },
   "outputs": [
    {
     "data": {
      "text/plain": [
       "undefined"
      ]
     },
     "execution_count": 14,
     "metadata": {},
     "output_type": "execute_result"
    }
   ],
   "source": [
    "var obj = {\n",
    "    name : 'robus',\n",
    "    say : function(){\n",
    "        console.log(this.name)\n",
    "        console.log(this)\n",
    "    }\n",
    "}"
   ]
  },
  {
   "cell_type": "code",
   "execution_count": 15,
   "metadata": {
    "collapsed": false
   },
   "outputs": [
    {
     "data": {
      "text/plain": [
       "'robus'"
      ]
     },
     "execution_count": 15,
     "metadata": {},
     "output_type": "execute_result"
    }
   ],
   "source": [
    "\n",
    "obj.name\n"
   ]
  },
  {
   "cell_type": "code",
   "execution_count": 18,
   "metadata": {
    "collapsed": false
   },
   "outputs": [
    {
     "name": "stdout",
     "output_type": "stream",
     "text": [
      "robus\n",
      "{ name: 'robus', say: [Function] }\n"
     ]
    },
    {
     "data": {
      "text/plain": [
       "undefined"
      ]
     },
     "execution_count": 18,
     "metadata": {},
     "output_type": "execute_result"
    }
   ],
   "source": [
    "obj.say()\n",
    "//here this refers to current obj in which the function is executinh, hence the function  inside the obj is also called method"
   ]
  },
  {
   "cell_type": "code",
   "execution_count": 19,
   "metadata": {
    "collapsed": false
   },
   "outputs": [
    {
     "data": {
      "text/plain": [
       "undefined"
      ]
     },
     "execution_count": 19,
     "metadata": {},
     "output_type": "execute_result"
    }
   ],
   "source": [
    "//first global execution context is created, 'this' variable is assigned tot global object and , memoery is setup for the \n",
    "//variables and the function before the execution of code, and then the syntax parser exectues thecode\n",
    "\n"
   ]
  },
  {
   "cell_type": "code",
   "execution_count": 21,
   "metadata": {
    "collapsed": false
   },
   "outputs": [
    {
     "name": "stdout",
     "output_type": "stream",
     "text": [
      "value of a: 45\n"
     ]
    },
    {
     "data": {
      "text/plain": [
       "undefined"
      ]
     },
     "execution_count": 21,
     "metadata": {},
     "output_type": "execute_result"
    }
   ],
   "source": [
    "//for example\n",
    "//printing out the value before initialization\n",
    "console.log('value of a: ' + a);\n",
    "//value a is initialized and declared\n",
    "var a = 45;\n",
    "\n",
    "// in another programming language does not work but thi works in java script due to the phenonmenon called hoisting\n",
    "\n",
    "\n",
    "//in hoisiting, syntax parser goes around the entire code and setup of the memory space for the variables with default value\n",
    "//of undefined and provides a memory space for function object"
   ]
  },
  {
   "cell_type": "code",
   "execution_count": 55,
   "metadata": {
    "collapsed": false
   },
   "outputs": [
    {
     "data": {
      "text/plain": [
       "undefined"
      ]
     },
     "execution_count": 55,
     "metadata": {},
     "output_type": "execute_result"
    }
   ],
   "source": [
    "//in java script function are also object\n",
    "\n",
    "function test(name, age){\n",
    "    console.log('Hey there this is fucntion')\n",
    "    function inner(){\n",
    "        console.log('this is inner fucntion')\n",
    "    }\n",
    "    return function innner(){\n",
    "        console.log('this is inner function')\n",
    "    }\n",
    "    \n",
    "}"
   ]
  },
  {
   "cell_type": "code",
   "execution_count": 45,
   "metadata": {
    "collapsed": false
   },
   "outputs": [
    {
     "data": {
      "text/plain": [
       "undefined"
      ]
     },
     "execution_count": 45,
     "metadata": {},
     "output_type": "execute_result"
    }
   ],
   "source": [
    "//test function is special fucntion which has some special name : value pairs, they are\n",
    "// 1. Code : this has a code to be exexucted, this creates a new execution context when invoked\n",
    "//3. arguments: this is a array of arguments but not exactly array\n",
    "\n",
    "// other than that test is like any other object in java script, only difference is that it can be invoked craeting a new execution\n",
    "//context"
   ]
  },
  {
   "cell_type": "code",
   "execution_count": 46,
   "metadata": {
    "collapsed": false
   },
   "outputs": [
    {
     "data": {
      "text/plain": [
       "'hey this is propoert'"
      ]
     },
     "execution_count": 46,
     "metadata": {},
     "output_type": "execute_result"
    }
   ],
   "source": [
    "//assigning a new name: value pairs to test function object\n",
    "test.anotherproperty = 'hey this is propoert'"
   ]
  },
  {
   "cell_type": "code",
   "execution_count": 50,
   "metadata": {
    "collapsed": false
   },
   "outputs": [
    {
     "data": {
      "text/plain": [
       "'this is next'"
      ]
     },
     "execution_count": 50,
     "metadata": {},
     "output_type": "execute_result"
    }
   ],
   "source": [
    "test.next = 'this is next'"
   ]
  },
  {
   "cell_type": "code",
   "execution_count": 57,
   "metadata": {
    "collapsed": false
   },
   "outputs": [
    {
     "name": "stdout",
     "output_type": "stream",
     "text": [
      "Hey there this is fucntion\n"
     ]
    },
    {
     "data": {
      "text/plain": [
       "[Function: innner]"
      ]
     },
     "execution_count": 57,
     "metadata": {},
     "output_type": "execute_result"
    }
   ],
   "source": [
    "inner_function = test()"
   ]
  },
  {
   "cell_type": "code",
   "execution_count": 58,
   "metadata": {
    "collapsed": false
   },
   "outputs": [
    {
     "name": "stdout",
     "output_type": "stream",
     "text": [
      "this is inner function\n"
     ]
    },
    {
     "data": {
      "text/plain": [
       "undefined"
      ]
     },
     "execution_count": 58,
     "metadata": {},
     "output_type": "execute_result"
    }
   ],
   "source": [
    "inner_function()"
   ]
  }
 ],
 "metadata": {
  "anaconda-cloud": {},
  "kernelspec": {
   "display_name": "Javascript (Node.js)",
   "language": "javascript",
   "name": "javascript"
  },
  "language_info": {
   "file_extension": ".js",
   "mimetype": "application/javascript",
   "name": "javascript",
   "version": "4.4.7"
  }
 },
 "nbformat": 4,
 "nbformat_minor": 1
}
